{
 "cells": [
  {
   "cell_type": "markdown",
   "metadata": {},
   "source": [
    "# Метрики precision и recall"
   ]
  },
  {
   "cell_type": "markdown",
   "metadata": {},
   "source": [
    "Данные содержат признаки пользователей и целевую переменную affair - была ли связь на стороне"
   ]
  },
  {
   "cell_type": "code",
   "execution_count": 1,
   "metadata": {
    "ExecuteTime": {
     "end_time": "2021-11-03T18:47:11.914144Z",
     "start_time": "2021-11-03T18:47:09.539244Z"
    }
   },
   "outputs": [],
   "source": [
    "import pandas as pd\n",
    "import matplotlib.pyplot as plt"
   ]
  },
  {
   "cell_type": "code",
   "execution_count": 2,
   "metadata": {
    "ExecuteTime": {
     "end_time": "2021-11-03T18:47:12.016612Z",
     "start_time": "2021-11-03T18:47:11.925759Z"
    },
    "pycharm": {
     "name": "#%%\n"
    }
   },
   "outputs": [
    {
     "data": {
      "text/html": [
       "<div>\n",
       "<style scoped>\n",
       "    .dataframe tbody tr th:only-of-type {\n",
       "        vertical-align: middle;\n",
       "    }\n",
       "\n",
       "    .dataframe tbody tr th {\n",
       "        vertical-align: top;\n",
       "    }\n",
       "\n",
       "    .dataframe thead th {\n",
       "        text-align: right;\n",
       "    }\n",
       "</style>\n",
       "<table border=\"1\" class=\"dataframe\">\n",
       "  <thead>\n",
       "    <tr style=\"text-align: right;\">\n",
       "      <th></th>\n",
       "      <th>rate_marriage</th>\n",
       "      <th>age</th>\n",
       "      <th>yrs_married</th>\n",
       "      <th>children</th>\n",
       "      <th>religious</th>\n",
       "      <th>educ</th>\n",
       "      <th>occupation</th>\n",
       "      <th>occupation_husb</th>\n",
       "      <th>affair</th>\n",
       "    </tr>\n",
       "  </thead>\n",
       "  <tbody>\n",
       "    <tr>\n",
       "      <th>0</th>\n",
       "      <td>3.0</td>\n",
       "      <td>32.0</td>\n",
       "      <td>9.0</td>\n",
       "      <td>3.0</td>\n",
       "      <td>3.0</td>\n",
       "      <td>17.0</td>\n",
       "      <td>2.0</td>\n",
       "      <td>5.0</td>\n",
       "      <td>1</td>\n",
       "    </tr>\n",
       "    <tr>\n",
       "      <th>1</th>\n",
       "      <td>3.0</td>\n",
       "      <td>27.0</td>\n",
       "      <td>13.0</td>\n",
       "      <td>3.0</td>\n",
       "      <td>1.0</td>\n",
       "      <td>14.0</td>\n",
       "      <td>3.0</td>\n",
       "      <td>4.0</td>\n",
       "      <td>1</td>\n",
       "    </tr>\n",
       "    <tr>\n",
       "      <th>2</th>\n",
       "      <td>4.0</td>\n",
       "      <td>22.0</td>\n",
       "      <td>2.5</td>\n",
       "      <td>0.0</td>\n",
       "      <td>1.0</td>\n",
       "      <td>16.0</td>\n",
       "      <td>3.0</td>\n",
       "      <td>5.0</td>\n",
       "      <td>1</td>\n",
       "    </tr>\n",
       "    <tr>\n",
       "      <th>3</th>\n",
       "      <td>4.0</td>\n",
       "      <td>37.0</td>\n",
       "      <td>16.5</td>\n",
       "      <td>4.0</td>\n",
       "      <td>3.0</td>\n",
       "      <td>16.0</td>\n",
       "      <td>5.0</td>\n",
       "      <td>5.0</td>\n",
       "      <td>1</td>\n",
       "    </tr>\n",
       "    <tr>\n",
       "      <th>4</th>\n",
       "      <td>5.0</td>\n",
       "      <td>27.0</td>\n",
       "      <td>9.0</td>\n",
       "      <td>1.0</td>\n",
       "      <td>1.0</td>\n",
       "      <td>14.0</td>\n",
       "      <td>3.0</td>\n",
       "      <td>4.0</td>\n",
       "      <td>1</td>\n",
       "    </tr>\n",
       "  </tbody>\n",
       "</table>\n",
       "</div>"
      ],
      "text/plain": [
       "   rate_marriage   age  yrs_married  children  religious  educ  occupation  \\\n",
       "0            3.0  32.0          9.0       3.0        3.0  17.0         2.0   \n",
       "1            3.0  27.0         13.0       3.0        1.0  14.0         3.0   \n",
       "2            4.0  22.0          2.5       0.0        1.0  16.0         3.0   \n",
       "3            4.0  37.0         16.5       4.0        3.0  16.0         5.0   \n",
       "4            5.0  27.0          9.0       1.0        1.0  14.0         3.0   \n",
       "\n",
       "   occupation_husb  affair  \n",
       "0              5.0       1  \n",
       "1              4.0       1  \n",
       "2              5.0       1  \n",
       "3              5.0       1  \n",
       "4              4.0       1  "
      ]
     },
     "execution_count": 2,
     "metadata": {},
     "output_type": "execute_result"
    }
   ],
   "source": [
    "data = pd.read_csv('affair_data.csv')\n",
    "data.head()"
   ]
  },
  {
   "cell_type": "code",
   "execution_count": 3,
   "metadata": {
    "ExecuteTime": {
     "end_time": "2021-11-03T18:47:12.079214Z",
     "start_time": "2021-11-03T18:47:12.027816Z"
    },
    "pycharm": {
     "name": "#%%\n"
    }
   },
   "outputs": [
    {
     "name": "stdout",
     "output_type": "stream",
     "text": [
      "<class 'pandas.core.frame.DataFrame'>\n",
      "RangeIndex: 6366 entries, 0 to 6365\n",
      "Data columns (total 9 columns):\n",
      " #   Column           Non-Null Count  Dtype  \n",
      "---  ------           --------------  -----  \n",
      " 0   rate_marriage    6366 non-null   float64\n",
      " 1   age              6366 non-null   float64\n",
      " 2   yrs_married      6366 non-null   float64\n",
      " 3   children         6366 non-null   float64\n",
      " 4   religious        6366 non-null   float64\n",
      " 5   educ             6366 non-null   float64\n",
      " 6   occupation       6366 non-null   float64\n",
      " 7   occupation_husb  6366 non-null   float64\n",
      " 8   affair           6366 non-null   int64  \n",
      "dtypes: float64(8), int64(1)\n",
      "memory usage: 447.7 KB\n"
     ]
    }
   ],
   "source": [
    "data.info()"
   ]
  },
  {
   "cell_type": "code",
   "execution_count": 4,
   "metadata": {
    "ExecuteTime": {
     "end_time": "2021-11-03T18:47:14.238781Z",
     "start_time": "2021-11-03T18:47:12.108156Z"
    }
   },
   "outputs": [],
   "source": [
    "from sklearn.linear_model import LogisticRegression\n",
    "\n",
    "# импортируем метод для автоматической разбивки на обучающую и тестовую выборки\n",
    "# раньше использовали from sklearn.cross_validation import train_test_split  \n",
    "from sklearn.model_selection import train_test_split"
   ]
  },
  {
   "cell_type": "markdown",
   "metadata": {
    "pycharm": {
     "name": "#%% md\n"
    }
   },
   "source": [
    "Формируем набор признаков и целевую переменную"
   ]
  },
  {
   "cell_type": "markdown",
   "metadata": {},
   "source": []
  },
  {
   "cell_type": "code",
   "execution_count": 5,
   "metadata": {
    "ExecuteTime": {
     "end_time": "2021-11-03T18:47:14.299497Z",
     "start_time": "2021-11-03T18:47:14.247829Z"
    }
   },
   "outputs": [
    {
     "data": {
      "text/html": [
       "<div>\n",
       "<style scoped>\n",
       "    .dataframe tbody tr th:only-of-type {\n",
       "        vertical-align: middle;\n",
       "    }\n",
       "\n",
       "    .dataframe tbody tr th {\n",
       "        vertical-align: top;\n",
       "    }\n",
       "\n",
       "    .dataframe thead th {\n",
       "        text-align: right;\n",
       "    }\n",
       "</style>\n",
       "<table border=\"1\" class=\"dataframe\">\n",
       "  <thead>\n",
       "    <tr style=\"text-align: right;\">\n",
       "      <th></th>\n",
       "      <th>rate_marriage</th>\n",
       "      <th>age</th>\n",
       "      <th>yrs_married</th>\n",
       "      <th>children</th>\n",
       "      <th>religious</th>\n",
       "      <th>educ</th>\n",
       "      <th>occupation</th>\n",
       "      <th>occupation_husb</th>\n",
       "    </tr>\n",
       "  </thead>\n",
       "  <tbody>\n",
       "    <tr>\n",
       "      <th>0</th>\n",
       "      <td>3.0</td>\n",
       "      <td>32.0</td>\n",
       "      <td>9.0</td>\n",
       "      <td>3.0</td>\n",
       "      <td>3.0</td>\n",
       "      <td>17.0</td>\n",
       "      <td>2.0</td>\n",
       "      <td>5.0</td>\n",
       "    </tr>\n",
       "    <tr>\n",
       "      <th>1</th>\n",
       "      <td>3.0</td>\n",
       "      <td>27.0</td>\n",
       "      <td>13.0</td>\n",
       "      <td>3.0</td>\n",
       "      <td>1.0</td>\n",
       "      <td>14.0</td>\n",
       "      <td>3.0</td>\n",
       "      <td>4.0</td>\n",
       "    </tr>\n",
       "  </tbody>\n",
       "</table>\n",
       "</div>"
      ],
      "text/plain": [
       "   rate_marriage   age  yrs_married  children  religious  educ  occupation  \\\n",
       "0            3.0  32.0          9.0       3.0        3.0  17.0         2.0   \n",
       "1            3.0  27.0         13.0       3.0        1.0  14.0         3.0   \n",
       "\n",
       "   occupation_husb  \n",
       "0              5.0  \n",
       "1              4.0  "
      ]
     },
     "execution_count": 5,
     "metadata": {},
     "output_type": "execute_result"
    }
   ],
   "source": [
    "X = data[data.columns[:-1]]\n",
    "X.head(2)"
   ]
  },
  {
   "cell_type": "code",
   "execution_count": 6,
   "metadata": {
    "ExecuteTime": {
     "end_time": "2021-11-03T18:47:14.313472Z",
     "start_time": "2021-11-03T18:47:14.304398Z"
    }
   },
   "outputs": [],
   "source": [
    "Y = data['affair']"
   ]
  },
  {
   "cell_type": "code",
   "execution_count": 7,
   "metadata": {
    "ExecuteTime": {
     "end_time": "2021-11-03T18:47:14.334434Z",
     "start_time": "2021-11-03T18:47:14.329806Z"
    }
   },
   "outputs": [],
   "source": [
    "model = LogisticRegression()"
   ]
  },
  {
   "cell_type": "markdown",
   "metadata": {
    "ExecuteTime": {
     "end_time": "2021-11-03T17:47:21.326005Z",
     "start_time": "2021-11-03T17:47:21.317351Z"
    }
   },
   "source": [
    "Разбиваем данные на обучающую и тестовую выборки в соотношении 70 / 30"
   ]
  },
  {
   "cell_type": "code",
   "execution_count": 8,
   "metadata": {
    "ExecuteTime": {
     "end_time": "2021-11-03T18:47:14.366522Z",
     "start_time": "2021-11-03T18:47:14.349784Z"
    }
   },
   "outputs": [],
   "source": [
    "X_train, X_test, Y_train, Y_test = train_test_split(X, Y, test_size = 0.3, random_state = 0)"
   ]
  },
  {
   "cell_type": "markdown",
   "metadata": {
    "ExecuteTime": {
     "end_time": "2021-11-03T17:48:46.328117Z",
     "start_time": "2021-11-03T17:48:46.321955Z"
    }
   },
   "source": [
    "Обучаем модель"
   ]
  },
  {
   "cell_type": "code",
   "execution_count": 9,
   "metadata": {
    "ExecuteTime": {
     "end_time": "2021-11-03T18:47:14.599151Z",
     "start_time": "2021-11-03T18:47:14.373378Z"
    }
   },
   "outputs": [
    {
     "data": {
      "text/plain": [
       "LogisticRegression()"
      ]
     },
     "execution_count": 9,
     "metadata": {},
     "output_type": "execute_result"
    }
   ],
   "source": [
    "model.fit(X_train, Y_train)"
   ]
  },
  {
   "cell_type": "markdown",
   "metadata": {
    "ExecuteTime": {
     "end_time": "2021-11-03T17:47:21.371908Z",
     "start_time": "2021-11-03T17:47:17.772Z"
    }
   },
   "source": [
    "Получаем прогнозные значения модели (переменная predictions)"
   ]
  },
  {
   "cell_type": "code",
   "execution_count": 10,
   "metadata": {
    "ExecuteTime": {
     "end_time": "2021-11-03T18:47:14.624380Z",
     "start_time": "2021-11-03T18:47:14.604960Z"
    }
   },
   "outputs": [],
   "source": [
    "predictions = model.predict_proba(X_test)"
   ]
  },
  {
   "cell_type": "code",
   "execution_count": 11,
   "metadata": {
    "ExecuteTime": {
     "end_time": "2021-11-03T18:47:14.639973Z",
     "start_time": "2021-11-03T18:47:14.634772Z"
    }
   },
   "outputs": [],
   "source": [
    "# for line in zip( predictions[:, 1], Y_test ):\n",
    "#     print( line )"
   ]
  },
  {
   "cell_type": "code",
   "execution_count": 12,
   "metadata": {
    "ExecuteTime": {
     "end_time": "2021-11-03T18:47:14.680670Z",
     "start_time": "2021-11-03T18:47:14.650718Z"
    }
   },
   "outputs": [
    {
     "data": {
      "text/plain": [
       "0.7319371727748691"
      ]
     },
     "execution_count": 12,
     "metadata": {},
     "output_type": "execute_result"
    }
   ],
   "source": [
    "model.score(X_test, Y_test)"
   ]
  },
  {
   "cell_type": "markdown",
   "metadata": {
    "ExecuteTime": {
     "end_time": "2021-11-03T17:49:07.936041Z",
     "start_time": "2021-11-03T17:49:07.924426Z"
    }
   },
   "source": [
    "Построим набор моделей для значений random_state от 0 до 9. Получите model.score для каждого варианта."
   ]
  },
  {
   "cell_type": "code",
   "execution_count": 13,
   "metadata": {
    "ExecuteTime": {
     "end_time": "2021-11-03T18:47:16.401844Z",
     "start_time": "2021-11-03T18:47:14.691252Z"
    }
   },
   "outputs": [
    {
     "name": "stdout",
     "output_type": "stream",
     "text": [
      "0: 0.7319371727748691\n",
      "1: 0.731413612565445\n",
      "2: 0.7172774869109948\n",
      "3: 0.7198952879581152\n",
      "4: 0.7136125654450262\n",
      "5: 0.7272251308900524\n",
      "6: 0.7136125654450262\n",
      "7: 0.7361256544502618\n",
      "8: 0.7162303664921466\n",
      "9: 0.7204188481675393\n"
     ]
    }
   ],
   "source": [
    "for i in range(10):\n",
    "    X_train, X_test, Y_train, Y_test = train_test_split(X, Y, test_size = 0.3, random_state = i)\n",
    "    model = LogisticRegression()\n",
    "    model.fit(X_train, Y_train)\n",
    "    print(\"{}: {}\".format(i, model.score(X_test, Y_test)))"
   ]
  },
  {
   "cell_type": "code",
   "execution_count": 14,
   "metadata": {
    "ExecuteTime": {
     "end_time": "2021-11-03T18:47:16.422455Z",
     "start_time": "2021-11-03T18:47:16.410168Z"
    }
   },
   "outputs": [],
   "source": [
    "### Оценка качества модели"
   ]
  },
  {
   "cell_type": "markdown",
   "metadata": {},
   "source": [
    "Считаем accuracy последней модели"
   ]
  },
  {
   "cell_type": "code",
   "execution_count": 23,
   "metadata": {
    "ExecuteTime": {
     "end_time": "2021-11-03T18:49:07.477197Z",
     "start_time": "2021-11-03T18:49:07.470338Z"
    }
   },
   "outputs": [],
   "source": [
    "y_pred = model.predict_proba(X_test)"
   ]
  },
  {
   "cell_type": "code",
   "execution_count": 35,
   "metadata": {
    "ExecuteTime": {
     "end_time": "2021-11-03T18:50:33.394177Z",
     "start_time": "2021-11-03T18:50:33.371817Z"
    }
   },
   "outputs": [
    {
     "data": {
      "text/plain": [
       "array([0.18408168, 0.1373503 , 0.22922274, ..., 0.55916786, 0.11058438,\n",
       "       0.29031605])"
      ]
     },
     "execution_count": 35,
     "metadata": {},
     "output_type": "execute_result"
    }
   ],
   "source": [
    "y_pred[:, 1]"
   ]
  },
  {
   "cell_type": "code",
   "execution_count": 36,
   "metadata": {
    "ExecuteTime": {
     "end_time": "2021-11-03T18:50:47.084564Z",
     "start_time": "2021-11-03T18:50:47.078077Z"
    }
   },
   "outputs": [
    {
     "data": {
      "text/plain": [
       "array([[0.81591832, 0.18408168],\n",
       "       [0.8626497 , 0.1373503 ],\n",
       "       [0.77077726, 0.22922274],\n",
       "       ...,\n",
       "       [0.44083214, 0.55916786],\n",
       "       [0.88941562, 0.11058438],\n",
       "       [0.70968395, 0.29031605]])"
      ]
     },
     "execution_count": 36,
     "metadata": {},
     "output_type": "execute_result"
    }
   ],
   "source": [
    "y_pred"
   ]
  },
  {
   "cell_type": "code",
   "execution_count": 15,
   "metadata": {
    "ExecuteTime": {
     "end_time": "2021-11-03T18:47:16.478823Z",
     "start_time": "2021-11-03T18:47:16.429462Z"
    }
   },
   "outputs": [],
   "source": [
    "def cm_metrics(y_true, y_pred, threshold=0.5):\n",
    "    \n",
    "\n",
    "    tp = 0 # True positive\n",
    "    fp = 0 # False positive\n",
    "    fn = 0 # False negative\n",
    "    tn = 0 # True negative\n",
    "\n",
    "#     predictions = model.predict_proba( X_test )\n",
    "    for predicted_prob, actual in zip( y_pred[:, 1], y_true ):    \n",
    "        if predicted_prob >= threshold:\n",
    "            predicted = 1\n",
    "        else:\n",
    "            predicted = 0\n",
    "\n",
    "        if predicted == 1:\n",
    "            if actual == 1:\n",
    "                tp += 1\n",
    "            else:\n",
    "                fp += 1\n",
    "\n",
    "        else:\n",
    "            if actual == 1:\n",
    "                fn += 1\n",
    "            else:\n",
    "                tn += 1\n",
    "                \n",
    "    return [tp, fp, fn, tn]"
   ]
  },
  {
   "cell_type": "code",
   "execution_count": 40,
   "metadata": {
    "ExecuteTime": {
     "end_time": "2021-11-03T18:51:52.105042Z",
     "start_time": "2021-11-03T18:51:52.099237Z"
    }
   },
   "outputs": [],
   "source": [
    "tp, fp, fn, tn = cm_metrics(Y_test, y_pred)"
   ]
  },
  {
   "cell_type": "code",
   "execution_count": 25,
   "metadata": {
    "ExecuteTime": {
     "end_time": "2021-11-03T18:49:15.905771Z",
     "start_time": "2021-11-03T18:49:15.897344Z"
    }
   },
   "outputs": [
    {
     "data": {
      "text/plain": [
       "0.7204188481675393"
      ]
     },
     "execution_count": 25,
     "metadata": {},
     "output_type": "execute_result"
    }
   ],
   "source": [
    "# какая точность получилась?\n",
    "(tp + tn) / (tp + fp + fn + tn)"
   ]
  },
  {
   "cell_type": "code",
   "execution_count": 26,
   "metadata": {
    "ExecuteTime": {
     "end_time": "2021-11-03T18:49:20.059359Z",
     "start_time": "2021-11-03T18:49:20.052520Z"
    }
   },
   "outputs": [
    {
     "data": {
      "text/plain": [
       "0.5681233933161953"
      ]
     },
     "execution_count": 26,
     "metadata": {},
     "output_type": "execute_result"
    }
   ],
   "source": [
    "precision = tp / (tp + fp)\n",
    "precision"
   ]
  },
  {
   "cell_type": "code",
   "execution_count": 20,
   "metadata": {
    "ExecuteTime": {
     "end_time": "2021-11-03T18:48:26.158364Z",
     "start_time": "2021-11-03T18:48:26.154963Z"
    }
   },
   "outputs": [],
   "source": [
    "### Используем готовые библиотеки"
   ]
  },
  {
   "cell_type": "code",
   "execution_count": 27,
   "metadata": {
    "ExecuteTime": {
     "end_time": "2021-11-03T18:49:23.003776Z",
     "start_time": "2021-11-03T18:49:22.997569Z"
    }
   },
   "outputs": [],
   "source": [
    "tpr = tp / (tp + fn) \n",
    "fpr = fn / (tn + fp)"
   ]
  },
  {
   "cell_type": "code",
   "execution_count": 41,
   "metadata": {
    "ExecuteTime": {
     "end_time": "2021-11-03T18:52:37.674499Z",
     "start_time": "2021-11-03T18:52:37.668589Z"
    }
   },
   "outputs": [],
   "source": [
    "thresholds = np.arange(0,1,0.005)"
   ]
  },
  {
   "cell_type": "code",
   "execution_count": 47,
   "metadata": {
    "ExecuteTime": {
     "end_time": "2021-11-03T18:53:51.085583Z",
     "start_time": "2021-11-03T18:53:49.563191Z"
    }
   },
   "outputs": [],
   "source": [
    "roc_points = []\n",
    "for threshold in thresholds:\n",
    "    tp, fp, fn, tn = cm_metrics(Y_test, y_pred=y_pred, threshold=threshold)\n",
    "    tpr = tp / (tp + fn) \n",
    "    fpr = fp / (tn + fp)\n",
    "    precision = tp / (tp + fp) if (tp + fp) > 0 else 1.\n",
    "    rates = [tpr, fpr, precision]\n",
    "#     print(threshold, rates)\n",
    "    roc_points.append(rates)"
   ]
  },
  {
   "cell_type": "code",
   "execution_count": 48,
   "metadata": {
    "ExecuteTime": {
     "end_time": "2021-11-03T18:53:51.447702Z",
     "start_time": "2021-11-03T18:53:51.436912Z"
    }
   },
   "outputs": [],
   "source": [
    "fpr_array = []\n",
    "tpr_array = []\n",
    "precision_array = []\n",
    "for i in range(len(roc_points)-1):\n",
    "    point1 = roc_points[i];\n",
    "    point2 = roc_points[i+1]\n",
    "    tpr_array.append([point1[0], point2[0]])\n",
    "    fpr_array.append([point1[1], point2[1]])\n",
    "    precision_array.append([point1[2], point2[2]])"
   ]
  },
  {
   "cell_type": "code",
   "execution_count": 49,
   "metadata": {
    "ExecuteTime": {
     "end_time": "2021-11-03T18:53:51.920417Z",
     "start_time": "2021-11-03T18:53:51.905261Z"
    }
   },
   "outputs": [
    {
     "name": "stdout",
     "output_type": "stream",
     "text": [
      "Area under curve=0.27967321700589964\n"
     ]
    }
   ],
   "source": [
    "# AUC\n",
    "auc = sum(np.trapz(tpr_array,fpr_array))+1\n",
    "print('Area under curve={}'.format(auc))"
   ]
  },
  {
   "cell_type": "code",
   "execution_count": 55,
   "metadata": {
    "ExecuteTime": {
     "end_time": "2021-11-03T18:55:41.863844Z",
     "start_time": "2021-11-03T18:55:40.573879Z"
    }
   },
   "outputs": [
    {
     "data": {
      "image/png": "[encoded data removed]",
      "text/plain": [
       "<Figure size 1008x504 with 2 Axes>"
      ]
     },
     "metadata": {
      "needs_background": "light"
     },
     "output_type": "display_data"
    },
    {
     "data": {
      "image/png": "[encoded data removed]",
      "text/plain": [
       "<Figure size 1008x504 with 2 Axes>"
      ]
     },
     "metadata": {
      "needs_background": "light"
     },
     "output_type": "display_data"
    }
   ],
   "source": [
    "from sklearn.metrics import precision_recall_curve\n",
    "from sklearn.metrics import roc_curve\n",
    "\n",
    "precision, recall, thresholds = precision_recall_curve(Y_test,\\\n",
    "                                                        model.predict_proba(X_test)[:, 1])\n",
    "\n",
    "\n",
    "precision, recall = np.round(precision, 2), np.round(recall, 2)\n",
    "fpr, tpr, _ = roc_curve(Y_test,model.predict_proba(X_test)[:, 1])\n",
    "\n",
    "\n",
    "fig = plt.figure(figsize = (14,7))\n",
    "ax1 = plt.subplot(121)\n",
    "ax1.plot(precision_array, tpr_array, label='PR Curve')\n",
    "plt.xlabel('Presicion')\n",
    "plt.ylabel('Recall')\n",
    "plt.legend(loc='best')\n",
    "plt.title('PR Curve from scratch')\n",
    "\n",
    "\n",
    "ax2 = plt.subplot(122)\n",
    "ax2.plot(tpr_array,fpr_array, label='AUC-ROC')\n",
    "plt.xlabel('FPR')\n",
    "plt.ylabel('TPR')\n",
    "plt.legend(loc='best')\n",
    "plt.title('ROC-AUC from scratch')\n",
    "plt.show()\n",
    "\n",
    "\n",
    "fig = plt.figure(figsize = (14,7))\n",
    "ax1 = plt.subplot(121)\n",
    "ax1.plot(precision, recall, label='PR Curve')\n",
    "plt.xlabel('Presicion')\n",
    "plt.ylabel('Recall')\n",
    "plt.legend(loc='best')\n",
    "plt.title('PR Curve from the box')\n",
    "\n",
    "\n",
    "ax2 = plt.subplot(122)\n",
    "ax2.plot(tpr, fpr,label='ROC-AUC')\n",
    "plt.xlabel('FPR')\n",
    "plt.ylabel('TPR')\n",
    "plt.legend(loc='best')\n",
    "plt.title('AUC-ROC from the box')\n",
    "plt.show()"
   ]
  },
  {
   "cell_type": "markdown",
   "metadata": {},
   "source": [
    "# метод для построения графика precision-recall\n",
    "from sklearn.metrics import precision_recall_curve"
   ]
  },
  {
   "cell_type": "code",
   "execution_count": 56,
   "metadata": {
    "ExecuteTime": {
     "end_time": "2021-11-03T18:56:39.322687Z",
     "start_time": "2021-11-03T18:56:39.315940Z"
    }
   },
   "outputs": [],
   "source": [
    "pr, re, thres = precision_recall_curve( Y_test, predictions[:, 1] )"
   ]
  },
  {
   "cell_type": "code",
   "execution_count": 57,
   "metadata": {
    "ExecuteTime": {
     "end_time": "2021-11-03T18:56:39.957660Z",
     "start_time": "2021-11-03T18:56:39.952759Z"
    }
   },
   "outputs": [],
   "source": [
    "# посмотрим что получилось\n",
    "# for line in zip( pr, re, thres ):\n",
    "#     print( line )"
   ]
  },
  {
   "cell_type": "code",
   "execution_count": 58,
   "metadata": {
    "ExecuteTime": {
     "end_time": "2021-11-03T18:56:40.459934Z",
     "start_time": "2021-11-03T18:56:40.453581Z"
    }
   },
   "outputs": [],
   "source": [
    "from sklearn.metrics import average_precision_score"
   ]
  },
  {
   "cell_type": "code",
   "execution_count": 59,
   "metadata": {
    "ExecuteTime": {
     "end_time": "2021-11-03T18:56:40.999927Z",
     "start_time": "2021-11-03T18:56:40.982177Z"
    }
   },
   "outputs": [
    {
     "data": {
      "text/plain": [
       "0.3161313691594922"
      ]
     },
     "execution_count": 59,
     "metadata": {},
     "output_type": "execute_result"
    }
   ],
   "source": [
    "# площадь под кривой\n",
    "average_precision_score( Y_test, predictions[:, 1] )"
   ]
  },
  {
   "cell_type": "code",
   "execution_count": 60,
   "metadata": {
    "ExecuteTime": {
     "end_time": "2021-11-03T18:56:41.527611Z",
     "start_time": "2021-11-03T18:56:41.516440Z"
    }
   },
   "outputs": [],
   "source": [
    "### ROC"
   ]
  },
  {
   "cell_type": "code",
   "execution_count": 61,
   "metadata": {
    "ExecuteTime": {
     "end_time": "2021-11-03T18:56:42.113307Z",
     "start_time": "2021-11-03T18:56:42.108869Z"
    },
    "pycharm": {
     "name": "#%%\n"
    }
   },
   "outputs": [],
   "source": [
    "# посчитаем ROC-кривую (Receiver Operating Characteristic)\n",
    "from sklearn.metrics import roc_curve"
   ]
  },
  {
   "cell_type": "code",
   "execution_count": 62,
   "metadata": {
    "ExecuteTime": {
     "end_time": "2021-11-03T18:56:42.678984Z",
     "start_time": "2021-11-03T18:56:42.671291Z"
    },
    "pycharm": {
     "name": "#%%\n"
    }
   },
   "outputs": [],
   "source": [
    "# получаем значения false и true positive rate для различных значений порога\n",
    "fpr, tpr, thres = roc_curve( Y_test, predictions[:, 1] )"
   ]
  },
  {
   "cell_type": "code",
   "execution_count": 63,
   "metadata": {
    "ExecuteTime": {
     "end_time": "2021-11-03T18:56:43.193854Z",
     "start_time": "2021-11-03T18:56:43.159958Z"
    }
   },
   "outputs": [
    {
     "name": "stdout",
     "output_type": "stream",
     "text": [
      "(0.0, 0.0, 1.9292091218347356)\n",
      "(0.0007558578987150416, 0.0, 0.9292091218347356)\n",
      "(0.0030234315948601664, 0.0, 0.9015483828909511)\n",
      "(0.0030234315948601664, 0.0017035775127768314, 0.89998863076942)\n",
      "(0.007558578987150416, 0.0017035775127768314, 0.868400866190377)\n",
      "(0.007558578987150416, 0.005110732538330494, 0.8650840062760865)\n",
      "(0.010582010582010581, 0.005110732538330494, 0.8546531438826546)\n",
      "(0.010582010582010581, 0.008517887563884156, 0.8521927027093201)\n",
      "(0.01436130007558579, 0.008517887563884156, 0.8338303291344934)\n",
      "(0.01436130007558579, 0.010221465076660987, 0.8336073154968104)\n",
      "(0.024943310657596373, 0.010221465076660987, 0.8081343428245285)\n",
      "(0.024943310657596373, 0.01192504258943782, 0.8072220565321198)\n",
      "(0.027210884353741496, 0.01192504258943782, 0.7990301982198432)\n",
      "(0.027210884353741496, 0.015332197614991482, 0.7918452059958397)\n",
      "(0.034013605442176874, 0.015332197614991482, 0.7731701466797716)\n",
      "(0.034013605442176874, 0.017035775127768313, 0.7726181721034869)\n",
      "(0.03552532123960695, 0.017035775127768313, 0.7665010878819434)\n",
      "(0.03552532123960695, 0.020442930153321975, 0.7644624529412244)\n",
      "(0.045351473922902494, 0.020442930153321975, 0.7485685699819168)\n",
      "(0.045351473922902494, 0.022146507666098807, 0.748251187431078)\n",
      "(0.04610733182161754, 0.022146507666098807, 0.745704477397024)\n",
      "(0.04610733182161754, 0.02385008517887564, 0.7455376646307421)\n",
      "(0.047619047619047616, 0.02385008517887564, 0.7418093303205298)\n",
      "(0.047619047619047616, 0.027257240204429302, 0.7394407167625425)\n",
      "(0.04837490551776266, 0.027257240204429302, 0.7374089819277324)\n",
      "(0.04837490551776266, 0.028960817717206135, 0.7360710788071382)\n",
      "(0.0491307634164777, 0.028960817717206135, 0.7336173314418065)\n",
      "(0.0491307634164777, 0.030664395229982964, 0.733152420778223)\n",
      "(0.050642479213907785, 0.030664395229982964, 0.7280501690247386)\n",
      "(0.050642479213907785, 0.03236797274275979, 0.7269835876913656)\n",
      "(0.05139833711262283, 0.03236797274275979, 0.7265239785091575)\n",
      "(0.05139833711262283, 0.034071550255536626, 0.7232864262001014)\n",
      "(0.05215419501133787, 0.034071550255536626, 0.7199863654720972)\n",
      "(0.05291005291005291, 0.03577512776831346, 0.7176943401566147)\n",
      "(0.05442176870748299, 0.03577512776831346, 0.7174256654067178)\n",
      "(0.05442176870748299, 0.039182282793867124, 0.7166316565958024)\n",
      "(0.055933484504913075, 0.039182282793867124, 0.7133115381607809)\n",
      "(0.05744520030234316, 0.039182282793867124, 0.7121058083663174)\n",
      "(0.05971277399848828, 0.039182282793867124, 0.7099098495920428)\n",
      "(0.05971277399848828, 0.04088586030664395, 0.7094927061734841)\n",
      "(0.06046863189720333, 0.04088586030664395, 0.7080186007005852)\n",
      "(0.06046863189720333, 0.04770017035775128, 0.7033885412583274)\n",
      "(0.06500377928949358, 0.04770017035775128, 0.6997017328209924)\n",
      "(0.06500377928949358, 0.05110732538330494, 0.6980125173158193)\n",
      "(0.06575963718820861, 0.05110732538330494, 0.6977353853064391)\n",
      "(0.06575963718820861, 0.05281090289608177, 0.695108122686364)\n",
      "(0.06651549508692366, 0.05281090289608177, 0.6945003463732105)\n",
      "(0.06651549508692366, 0.054514480408858604, 0.693042394958303)\n",
      "(0.0672713529856387, 0.054514480408858604, 0.688349073944735)\n",
      "(0.06878306878306878, 0.054514480408858604, 0.6875324245911794)\n",
      "(0.07029478458049887, 0.054514480408858604, 0.6851727479405024)\n",
      "(0.07029478458049887, 0.05792163543441227, 0.6804098183149241)\n",
      "(0.0710506424792139, 0.05792163543441227, 0.680397646153011)\n",
      "(0.0710506424792139, 0.059625212947189095, 0.6798809892286095)\n",
      "(0.07180650037792895, 0.059625212947189095, 0.6796507643586873)\n",
      "(0.07180650037792895, 0.06132879045996593, 0.6787117558205737)\n",
      "(0.07634164777021919, 0.06132879045996593, 0.671367277404465)\n",
      "(0.07634164777021919, 0.06303236797274275, 0.6711785920590234)\n",
      "(0.08314436885865457, 0.06303236797274275, 0.6564702376727514)\n",
      "(0.08314436885865457, 0.06473594548551959, 0.6538939116648352)\n",
      "(0.08465608465608465, 0.06473594548551959, 0.6534714953625345)\n",
      "(0.08465608465608465, 0.06814310051107325, 0.6491741406207697)\n",
      "(0.08616780045351474, 0.06814310051107325, 0.6455930508707609)\n",
      "(0.08616780045351474, 0.06984667802385008, 0.6452390182752009)\n",
      "(0.08692365835222977, 0.06984667802385008, 0.6437474272942971)\n",
      "(0.08692365835222977, 0.07495741056218058, 0.6426171013089461)\n",
      "(0.08994708994708994, 0.07495741056218058, 0.6397762705763608)\n",
      "(0.08994708994708994, 0.07666098807495741, 0.638268350891117)\n",
      "(0.09145880574452003, 0.07666098807495741, 0.6380922496208333)\n",
      "(0.09145880574452003, 0.0817717206132879, 0.6363335767907804)\n",
      "(0.09297052154195011, 0.0817717206132879, 0.6349477175053503)\n",
      "(0.09297052154195011, 0.08347529812606473, 0.6347608533088184)\n",
      "(0.09750566893424037, 0.08347529812606473, 0.6288637994732006)\n",
      "(0.09901738473167045, 0.08347529812606473, 0.625575143741738)\n",
      "(0.10430839002267574, 0.08347529812606473, 0.6212268498456373)\n",
      "(0.10430839002267574, 0.08517887563884156, 0.6207104862251985)\n",
      "(0.1073318216175359, 0.08517887563884156, 0.6169955957390549)\n",
      "(0.1073318216175359, 0.0868824531516184, 0.6143122673816233)\n",
      "(0.10808767951625095, 0.08858603066439523, 0.6138543192366854)\n",
      "(0.11035525321239607, 0.08858603066439523, 0.609646735191172)\n",
      "(0.11035525321239607, 0.09369676320272573, 0.6079782373141116)\n",
      "(0.11413454270597127, 0.09369676320272573, 0.6003432412971952)\n",
      "(0.11413454270597127, 0.09540034071550256, 0.5998642611694966)\n",
      "(0.11489040060468632, 0.09540034071550256, 0.5995230493805038)\n",
      "(0.11489040060468632, 0.09710391822827939, 0.5966965053714705)\n",
      "(0.11715797430083144, 0.09710391822827939, 0.5937624559182709)\n",
      "(0.11715797430083144, 0.10051107325383304, 0.5917571109764777)\n",
      "(0.12244897959183673, 0.10051107325383304, 0.5880896718182639)\n",
      "(0.12244897959183673, 0.10391822827938671, 0.5873694029178834)\n",
      "(0.12320483749055178, 0.10391822827938671, 0.5872751890989759)\n",
      "(0.12320483749055178, 0.10562180579216354, 0.5867279259721666)\n",
      "(0.12471655328798185, 0.10562180579216354, 0.5836257133624361)\n",
      "(0.12471655328798185, 0.10902896081771721, 0.5834522755816317)\n",
      "(0.1254724111866969, 0.11073253833049404, 0.5833708526917936)\n",
      "(0.12698412698412698, 0.11073253833049404, 0.582255789823318)\n",
      "(0.12698412698412698, 0.11754684838160136, 0.5787236486346515)\n",
      "(0.12849584278155707, 0.11754684838160136, 0.5780685266865256)\n",
      "(0.12849584278155707, 0.11925042589437819, 0.5772484730583847)\n",
      "(0.13000755857898716, 0.11925042589437819, 0.5737102629698194)\n",
      "(0.13000755857898716, 0.12265758091993186, 0.57234446802629)\n",
      "(0.1307634164777022, 0.12265758091993186, 0.5719662260715414)\n",
      "(0.1307634164777022, 0.1260647359454855, 0.5715477310197008)\n",
      "(0.13151927437641722, 0.1260647359454855, 0.5680291341366309)\n",
      "(0.13151927437641722, 0.131175468483816, 0.5660255953506761)\n",
      "(0.13227513227513227, 0.131175468483816, 0.5659613932502531)\n",
      "(0.13227513227513227, 0.13287904599659284, 0.5657609431573827)\n",
      "(0.13378684807256236, 0.13287904599659284, 0.563456515399272)\n",
      "(0.13378684807256236, 0.13458262350936967, 0.5626245729390135)\n",
      "(0.13756613756613756, 0.13458262350936967, 0.5602075074554393)\n",
      "(0.13756613756613756, 0.1362862010221465, 0.5591024437849974)\n",
      "(0.1383219954648526, 0.1362862010221465, 0.5579790768241203)\n",
      "(0.1383219954648526, 0.13798977853492334, 0.557693836370237)\n",
      "(0.1421012849584278, 0.13798977853492334, 0.5538002102504083)\n",
      "(0.1421012849584278, 0.13969335604770017, 0.5535673614699482)\n",
      "(0.1436130007558579, 0.13969335604770017, 0.553547695643882)\n",
      "(0.1436130007558579, 0.14310051107325383, 0.5531203579439051)\n",
      "(0.14588057445200303, 0.14310051107325383, 0.551552504180843)\n",
      "(0.14588057445200303, 0.14991482112436116, 0.5498836060324572)\n",
      "(0.14663643235071808, 0.14991482112436116, 0.5495961720596901)\n",
      "(0.14814814814814814, 0.14991482112436116, 0.5489635757406168)\n",
      "(0.14814814814814814, 0.151618398637138, 0.5487262862509101)\n",
      "(0.15041572184429328, 0.151618398637138, 0.5439658813366817)\n",
      "(0.15041572184429328, 0.15502555366269166, 0.5434975625443221)\n",
      "(0.15117157974300832, 0.15502555366269166, 0.5428900714914939)\n",
      "(0.15117157974300832, 0.15843270868824533, 0.5418532742385169)\n",
      "(0.15268329554043839, 0.15843270868824533, 0.5393454766948121)\n",
      "(0.15268329554043839, 0.16183986371379896, 0.5385171678665781)\n",
      "(0.1564625850340136, 0.16183986371379896, 0.53402579366974)\n",
      "(0.1564625850340136, 0.1635434412265758, 0.5332525756235851)\n",
      "(0.15797430083144368, 0.1635434412265758, 0.5320535060537386)\n",
      "(0.15873015873015872, 0.1635434412265758, 0.5316031882245383)\n",
      "(0.15873015873015872, 0.16695059625212946, 0.530191679591499)\n",
      "(0.1602418745275888, 0.16695059625212946, 0.5290383652495041)\n",
      "(0.1602418745275888, 0.1686541737649063, 0.5282772723746056)\n",
      "(0.16099773242630386, 0.1686541737649063, 0.527826545559198)\n",
      "(0.16099773242630386, 0.1737649063032368, 0.5259935566587118)\n",
      "(0.16250944822373395, 0.17546848381601363, 0.5256989708252977)\n",
      "(0.16250944822373395, 0.17717206132879046, 0.5256658381276685)\n",
      "(0.16477702191987906, 0.17717206132879046, 0.5228620590383914)\n",
      "(0.16477702191987906, 0.1788756388415673, 0.5223543218806819)\n",
      "(0.1655328798185941, 0.18057921635434412, 0.5213066201525125)\n",
      "(0.16628873771730915, 0.18057921635434412, 0.5211169841124834)\n",
      "(0.16628873771730915, 0.18568994889267462, 0.5196176240905604)\n",
      "(0.1708238851095994, 0.18568994889267462, 0.5149320437921715)\n",
      "(0.1708238851095994, 0.18739352640545145, 0.5146862271908298)\n",
      "(0.17233560090702948, 0.18739352640545145, 0.5121542599338269)\n",
      "(0.17233560090702948, 0.1890971039182283, 0.511821518913344)\n",
      "(0.17384731670445955, 0.1890971039182283, 0.5102804153180047)\n",
      "(0.17384731670445955, 0.19080068143100512, 0.5093560180367521)\n",
      "(0.1746031746031746, 0.19250425894378195, 0.5092763034856279)\n",
      "(0.1746031746031746, 0.19420783645655879, 0.5086644417484895)\n",
      "(0.17611489040060468, 0.19420783645655879, 0.5069637542229025)\n",
      "(0.17611489040060468, 0.20272572402044292, 0.5046613587136557)\n",
      "(0.17762660619803478, 0.20272572402044292, 0.5029147658440648)\n",
      "(0.17762660619803478, 0.20442930153321975, 0.5017112612782472)\n",
      "(0.18140589569160998, 0.20442930153321975, 0.4989753161676839)\n",
      "(0.18140589569160998, 0.2061328790459966, 0.498369365292498)\n",
      "(0.18216175359032502, 0.2061328790459966, 0.4974385242040863)\n",
      "(0.18216175359032502, 0.20954003407155025, 0.4963884823682045)\n",
      "(0.1836734693877551, 0.20954003407155025, 0.49508423681271796)\n",
      "(0.1836734693877551, 0.21124361158432708, 0.4950057061690142)\n",
      "(0.18442932728647016, 0.21294718909710392, 0.4946628855284021)\n",
      "(0.1874527588813303, 0.21294718909710392, 0.49203068593887384)\n",
      "(0.1874527588813303, 0.21465076660988075, 0.49195474419065394)\n",
      "(0.1889644746787604, 0.21465076660988075, 0.49158266777119836)\n",
      "(0.1889644746787604, 0.21805792163543442, 0.4900220774768572)\n",
      "(0.18972033257747545, 0.21976149914821125, 0.48953040737515613)\n",
      "(0.19198790627362056, 0.21976149914821125, 0.4868238515284985)\n",
      "(0.19198790627362056, 0.22146507666098808, 0.485424957268772)\n",
      "(0.19349962207105065, 0.22146507666098808, 0.4846010691989663)\n",
      "(0.19349962207105065, 0.2231686541737649, 0.48400814981583856)\n",
      "(0.19576719576719576, 0.2231686541737649, 0.483205376858499)\n",
      "(0.19576719576719576, 0.22487223168654175, 0.48297454264407985)\n",
      "(0.19879062736205594, 0.22487223168654175, 0.4808155733369024)\n",
      "(0.19879062736205594, 0.2282793867120954, 0.4804332350742733)\n",
      "(0.19954648526077098, 0.2282793867120954, 0.479717602671548)\n",
      "(0.19954648526077098, 0.22998296422487224, 0.47942064206729246)\n",
      "(0.20030234315948603, 0.22998296422487224, 0.47857496810478695)\n",
      "(0.20030234315948603, 0.23168654173764908, 0.47772402634816175)\n",
      "(0.2018140589569161, 0.23168654173764908, 0.47460737232807654)\n",
      "(0.2018140589569161, 0.23339011925042588, 0.4743417476458295)\n",
      "(0.20256991685563114, 0.23339011925042588, 0.47427125087163596)\n",
      "(0.20256991685563114, 0.23509369676320271, 0.47393676447712174)\n",
      "(0.20332577475434618, 0.23509369676320271, 0.4734437465817343)\n",
      "(0.20332577475434618, 0.23679727427597955, 0.4724496804817416)\n",
      "(0.20408163265306123, 0.23679727427597955, 0.47193202812697643)\n",
      "(0.20408163265306123, 0.23850085178875638, 0.47160847886144097)\n",
      "(0.20559334845049132, 0.23850085178875638, 0.47008371228654)\n",
      "(0.20710506424792138, 0.23850085178875638, 0.4699577800103365)\n",
      "(0.20786092214663643, 0.23850085178875638, 0.4698731420551393)\n",
      "(0.20861678004535147, 0.2402044293015332, 0.46923534205336126)\n",
      "(0.20937263794406652, 0.2402044293015332, 0.46921164170694746)\n",
      "(0.20937263794406652, 0.24190800681431004, 0.4684828800103257)\n",
      "(0.21239606953892667, 0.24190800681431004, 0.46624289649840134)\n",
      "(0.21390778533635676, 0.24361158432708688, 0.4661832070344989)\n",
      "(0.2146636432350718, 0.24361158432708688, 0.4660901504464029)\n",
      "(0.2146636432350718, 0.2453151618398637, 0.46425708079533584)\n",
      "(0.2161753590325019, 0.2453151618398637, 0.46261289297973424)\n",
      "(0.2161753590325019, 0.24701873935264054, 0.4624125022141191)\n",
      "(0.21693121693121692, 0.24701873935264054, 0.46202255486361626)\n",
      "(0.218442932728647, 0.24701873935264054, 0.4618039586166412)\n",
      "(0.2199546485260771, 0.24701873935264054, 0.46076055015375667)\n",
      "(0.2199546485260771, 0.24872231686541738, 0.4606973511221052)\n",
      "(0.22071050642479215, 0.24872231686541738, 0.4606141159626053)\n",
      "(0.22071050642479215, 0.2504258943781942, 0.46044828304529145)\n",
      "(0.22297808012093726, 0.2504258943781942, 0.4595738802959158)\n",
      "(0.22297808012093726, 0.25383304940374785, 0.4594013379314557)\n",
      "(0.2237339380196523, 0.25383304940374785, 0.4588486756257476)\n",
      "(0.22448979591836735, 0.2555366269165247, 0.45864609221222835)\n",
      "(0.2275132275132275, 0.2555366269165247, 0.45611705410357584)\n",
      "(0.2275132275132275, 0.2572402044293015, 0.4554832443696299)\n",
      "(0.2290249433106576, 0.2572402044293015, 0.4552009992799352)\n",
      "(0.2290249433106576, 0.2657580919931857, 0.4537190775155202)\n",
      "(0.22978080120937264, 0.2657580919931857, 0.45316752076366745)\n",
      "(0.23053665910808768, 0.2674616695059625, 0.453037279155439)\n",
      "(0.23129251700680273, 0.2674616695059625, 0.452988246965574)\n",
      "(0.23129251700680273, 0.26916524701873934, 0.45227661160328947)\n",
      "(0.23960695389266817, 0.26916524701873934, 0.44796252803568964)\n",
      "(0.24111866969009826, 0.272572402044293, 0.44651526115071194)\n",
      "(0.24338624338624337, 0.272572402044293, 0.4446826640147713)\n",
      "(0.24338624338624337, 0.27427597955706984, 0.4436122026566283)\n",
      "(0.2509448223733938, 0.27427597955706984, 0.4355398783669578)\n",
      "(0.2509448223733938, 0.27597955706984667, 0.43551307747302526)\n",
      "(0.25170068027210885, 0.27597955706984667, 0.4351581930222586)\n",
      "(0.25170068027210885, 0.2776831345826235, 0.4337850498003858)\n",
      "(0.25774754346182915, 0.2776831345826235, 0.43121595700530607)\n",
      "(0.25774754346182915, 0.27938671209540034, 0.4311365687840816)\n",
      "(0.2615268329554044, 0.27938671209540034, 0.4302949541504275)\n",
      "(0.2615268329554044, 0.28109028960817717, 0.43012762507162466)\n",
      "(0.2622826908541194, 0.28109028960817717, 0.4297470716895224)\n",
      "(0.2622826908541194, 0.28449744463373083, 0.4295336041971139)\n",
      "(0.26303854875283444, 0.28449744463373083, 0.4284947765347419)\n",
      "(0.26455026455026454, 0.28449744463373083, 0.4281008779073386)\n",
      "(0.26455026455026454, 0.28620102214650767, 0.4276157242667298)\n",
      "(0.2653061224489796, 0.28620102214650767, 0.42696781404387957)\n",
      "(0.2653061224489796, 0.2879045996592845, 0.42667912394711)\n",
      "(0.2660619803476946, 0.2879045996592845, 0.4260432403491859)\n",
      "(0.2660619803476946, 0.28960817717206133, 0.4259083313425478)\n",
      "(0.2675736961451247, 0.28960817717206133, 0.42584613755457895)\n",
      "(0.26832955404383974, 0.28960817717206133, 0.42372826234434446)\n",
      "(0.26832955404383974, 0.29131175468483816, 0.42338725386671366)\n",
      "(0.272108843537415, 0.29131175468483816, 0.4215504947930012)\n",
      "(0.272108843537415, 0.2981260647359455, 0.4205878074498111)\n",
      "(0.2789115646258503, 0.2981260647359455, 0.41573551906921746)\n",
      "(0.2819349962207105, 0.2981260647359455, 0.4139206858958287)\n",
      "(0.2849584278155707, 0.2981260647359455, 0.4103865561342898)\n",
      "(0.2849584278155707, 0.30153321976149916, 0.409655627159742)\n",
      "(0.2849584278155707, 0.30664395229982966, 0.4081812732910732)\n",
      "(0.2857142857142857, 0.30664395229982966, 0.4081355405131435)\n",
      "(0.2857142857142857, 0.3100511073253833, 0.40777255320334144)\n",
      "(0.28647014361300077, 0.3100511073253833, 0.40776052218439035)\n",
      "(0.2872260015117158, 0.31175468483816016, 0.40628137866084046)\n",
      "(0.28798185941043086, 0.31175468483816016, 0.40626787645750456)\n",
      "(0.28798185941043086, 0.313458262350937, 0.4058933973536649)\n",
      "(0.2887377173091459, 0.313458262350937, 0.404982206903234)\n",
      "(0.29024943310657597, 0.313458262350937, 0.4039012853662808)\n",
      "(0.29024943310657597, 0.3151618398637138, 0.4037509825726809)\n",
      "(0.2925170068027211, 0.3151618398637138, 0.40295818747187484)\n",
      "(0.29327286470143615, 0.31686541737649065, 0.4022758549933351)\n",
      "(0.2947845804988662, 0.31686541737649065, 0.400289831815928)\n",
      "(0.2947845804988662, 0.3185689948892675, 0.3981970173759797)\n",
      "(0.30309901738473166, 0.3185689948892675, 0.39382669329235187)\n",
      "(0.30385487528344673, 0.3202725724020443, 0.3936654715656549)\n",
      "(0.30385487528344673, 0.32367972742759793, 0.3922722180464501)\n",
      "(0.30687830687830686, 0.32367972742759793, 0.3910183502280964)\n",
      "(0.30687830687830686, 0.33049403747870526, 0.3894412825159549)\n",
      "(0.30763416477702193, 0.33049403747870526, 0.3889315841781278)\n",
      "(0.30763416477702193, 0.3321976149914821, 0.38843059864085444)\n",
      "(0.30990173847316704, 0.3321976149914821, 0.38774180717932455)\n",
      "(0.30990173847316704, 0.3339011925042589, 0.38762078761965185)\n",
      "(0.31368102796674224, 0.3339011925042589, 0.3833258225020336)\n",
      "(0.31368102796674224, 0.33560477001703576, 0.3832438500245084)\n",
      "(0.31519274376417233, 0.33560477001703576, 0.38239551556736706)\n",
      "(0.31519274376417233, 0.3373083475298126, 0.38180823561340094)\n",
      "(0.31594860166288735, 0.3373083475298126, 0.38028039637740957)\n",
      "(0.31594860166288735, 0.3390119250425894, 0.3801704961614643)\n",
      "(0.3167044595616024, 0.3390119250425894, 0.3798294288083394)\n",
      "(0.3167044595616024, 0.34071550255536626, 0.3796260583428732)\n",
      "(0.3219954648526077, 0.34071550255536626, 0.3773143308545752)\n",
      "(0.3219954648526077, 0.3424190800681431, 0.3769285905430209)\n",
      "(0.3235071806500378, 0.3424190800681431, 0.37674306306141625)\n",
      "(0.3235071806500378, 0.3441226575809199, 0.376517893945522)\n",
      "(0.3242630385487528, 0.3441226575809199, 0.37533352406062565)\n",
      "(0.3242630385487528, 0.34582623509369675, 0.3745675380908672)\n",
      "(0.3250188964474679, 0.34582623509369675, 0.3743245333126491)\n",
      "(0.3250188964474679, 0.3475298126064736, 0.3733748669862758)\n",
      "(0.32653061224489793, 0.3475298126064736, 0.3731900410065882)\n",
      "(0.32653061224489793, 0.35093696763202725, 0.37295556541707003)\n",
      "(0.3287981859410431, 0.35093696763202725, 0.3717858655349686)\n",
      "(0.3287981859410431, 0.3526405451448041, 0.371576727573145)\n",
      "(0.3295540438397581, 0.3526405451448041, 0.371238328222778)\n",
      "(0.3295540438397581, 0.3543441226575809, 0.37117726255777117)\n",
      "(0.3310657596371882, 0.3543441226575809, 0.3707217626254775)\n",
      "(0.3310657596371882, 0.3577512776831346, 0.36941709117439125)\n",
      "(0.3318216175359032, 0.3577512776831346, 0.3692851961157908)\n",
      "(0.3318216175359032, 0.3594548551959114, 0.36927836895512933)\n",
      "(0.3325774754346183, 0.3594548551959114, 0.36922933281342846)\n",
      "(0.3325774754346183, 0.3628620102214651, 0.3688469619643317)\n",
      "(0.3333333333333333, 0.3628620102214651, 0.36877436056668345)\n",
      "(0.3333333333333333, 0.3679727427597956, 0.3682980071318149)\n",
      "(0.3340891912320484, 0.3679727427597956, 0.3680436568271798)\n",
      "(0.3340891912320484, 0.3696763202725724, 0.36768259198572956)\n",
      "(0.3348450491307634, 0.3696763202725724, 0.36754557641280755)\n",
      "(0.3348450491307634, 0.37137989778534924, 0.36744954820780273)\n",
      "(0.3363567649281935, 0.37137989778534924, 0.3671124432901352)\n",
      "(0.3363567649281935, 0.3730834752981261, 0.3664986449034119)\n",
      "(0.3371126228269085, 0.3730834752981261, 0.36595961508714286)\n",
      "(0.3371126228269085, 0.3781942078364566, 0.3639329938326918)\n",
      "(0.3378684807256236, 0.3781942078364566, 0.3631616992072381)\n",
      "(0.3378684807256236, 0.38160136286201024, 0.36252394986379144)\n",
      "(0.3393801965230537, 0.38160136286201024, 0.36204842287326766)\n",
      "(0.3393801965230537, 0.3833049403747871, 0.3618169067572777)\n",
      "(0.3401360544217687, 0.3833049403747871, 0.3617007194252915)\n",
      "(0.3401360544217687, 0.38671209540034074, 0.3612083885733478)\n",
      "(0.3416477702191988, 0.38671209540034074, 0.36074798311746387)\n",
      "(0.3439153439153439, 0.38671209540034074, 0.3604309172220063)\n",
      "(0.345427059712774, 0.38671209540034074, 0.3600334185180072)\n",
      "(0.345427059712774, 0.38841567291311757, 0.36002052129996787)\n",
      "(0.34618291761148906, 0.38841567291311757, 0.3599309648674165)\n",
      "(0.34618291761148906, 0.3901192504258944, 0.3596810688860811)\n",
      "(0.3476946334089191, 0.3901192504258944, 0.35935250647118305)\n",
      "(0.3476946334089191, 0.39182282793867124, 0.3588890874791839)\n",
      "(0.34845049130763417, 0.39182282793867124, 0.35842997949872724)\n",
      "(0.34845049130763417, 0.393526405451448, 0.3582747671226133)\n",
      "(0.3492063492063492, 0.393526405451448, 0.3581057806024053)\n",
      "(0.3492063492063492, 0.39522998296422485, 0.35796310331382536)\n",
      "(0.3507180650037793, 0.39522998296422485, 0.3575669230057458)\n",
      "(0.35222978080120937, 0.39522998296422485, 0.357170087956617)\n",
      "(0.36054421768707484, 0.39522998296422485, 0.35342719755393825)\n",
      "(0.36054421768707484, 0.3986371379897785, 0.3531411125096914)\n",
      "(0.36130007558578986, 0.3986371379897785, 0.35291214133862037)\n",
      "(0.36130007558578986, 0.4020442930153322, 0.3527828423470357)\n",
      "(0.36205593348450493, 0.4020442930153322, 0.352728079320654)\n",
      "(0.36205593348450493, 0.4071550255536627, 0.35166004339458007)\n",
      "(0.363567649281935, 0.4071550255536627, 0.3506532031781977)\n",
      "(0.36507936507936506, 0.4071550255536627, 0.3503330937959476)\n",
      "(0.3673469387755102, 0.4071550255536627, 0.3501059263206884)\n",
      "(0.3673469387755102, 0.4088586030664395, 0.34962981754811084)\n",
      "(0.36961451247165533, 0.4088586030664395, 0.3481176567814546)\n",
      "(0.3711262282690854, 0.4088586030664395, 0.34800197503670127)\n",
      "(0.3711262282690854, 0.41056218057921634, 0.3467006902026251)\n",
      "(0.3726379440665155, 0.41056218057921634, 0.3458369039230902)\n",
      "(0.37339380196523053, 0.4122657580919932, 0.34504875207093344)\n",
      "(0.37339380196523053, 0.41396933560477, 0.344856622236359)\n",
      "(0.3741496598639456, 0.41396933560477, 0.34422575796921123)\n",
      "(0.3741496598639456, 0.4190800681431005, 0.3430971909773965)\n",
      "(0.3749055177626606, 0.4190800681431005, 0.34276711813572625)\n",
      "(0.3749055177626606, 0.42248722316865417, 0.34193399938066976)\n",
      "(0.3764172335600907, 0.42248722316865417, 0.34192140411793853)\n",
      "(0.3764172335600907, 0.424190800681431, 0.3413777908675634)\n",
      "(0.37717309145880573, 0.424190800681431, 0.3413707372568309)\n",
      "(0.37717309145880573, 0.42589437819420783, 0.3411992856157614)\n",
      "(0.3779289493575208, 0.42759795570698467, 0.3407964658899736)\n",
      "(0.3801965230536659, 0.42759795570698467, 0.3391926963660751)\n",
      "(0.3801965230536659, 0.43270868824531517, 0.33664664963637086)\n",
      "(0.38095238095238093, 0.43270868824531517, 0.3356769065504299)\n",
      "(0.382464096749811, 0.43270868824531517, 0.33560687293497543)\n",
      "(0.382464096749811, 0.4395229982964225, 0.3340067649655068)\n",
      "(0.3832199546485261, 0.4395229982964225, 0.33353400342209705)\n",
      "(0.3832199546485261, 0.44122657580919933, 0.3331469863857199)\n",
      "(0.3839758125472411, 0.44122657580919933, 0.33257956364721747)\n",
      "(0.3839758125472411, 0.444633730834753, 0.33148363320136487)\n",
      "(0.3847316704459562, 0.444633730834753, 0.33067270134468757)\n",
      "(0.3847316704459562, 0.4463373083475298, 0.3306465187551337)\n",
      "(0.3869992441421013, 0.4463373083475298, 0.3290067917704801)\n",
      "(0.3869992441421013, 0.44804088586030666, 0.32833655238849635)\n",
      "(0.3885109599395314, 0.44804088586030666, 0.3269245625163388)\n",
      "(0.3885109599395314, 0.4497444633730835, 0.32675013723955226)\n",
      "(0.3900226757369615, 0.4497444633730835, 0.32629006213742257)\n",
      "(0.3900226757369615, 0.4514480408858603, 0.32576988779875155)\n",
      "(0.3930461073318216, 0.4514480408858603, 0.3252652603408474)\n",
      "(0.3930461073318216, 0.45315161839863716, 0.3247238424980041)\n",
      "(0.3960695389266818, 0.45315161839863716, 0.32360424507425517)\n",
      "(0.3975812547241119, 0.45315161839863716, 0.3234079369755196)\n",
      "(0.39909297052154197, 0.45315161839863716, 0.3212527801342089)\n",
      "(0.39909297052154197, 0.454855195911414, 0.32065593722448604)\n",
      "(0.399848828420257, 0.454855195911414, 0.31984630433786976)\n",
      "(0.399848828420257, 0.4565587734241908, 0.3194694726913502)\n",
      "(0.40060468631897206, 0.4565587734241908, 0.31925270524168214)\n",
      "(0.40060468631897206, 0.45826235093696766, 0.3191095665884573)\n",
      "(0.4013605442176871, 0.45826235093696766, 0.3189921498523885)\n",
      "(0.4013605442176871, 0.4599659284497445, 0.3184412543046731)\n",
      "(0.4021164021164021, 0.4599659284497445, 0.31785497958436865)\n",
      "(0.40287226001511717, 0.46337308347529815, 0.3174373296655404)\n",
      "(0.4036281179138322, 0.46337308347529815, 0.3168092138726357)\n",
      "(0.4036281179138322, 0.46507666098807493, 0.3167417149485857)\n",
      "(0.41118669690098264, 0.46507666098807493, 0.31557970141397107)\n",
      "(0.41118669690098264, 0.46678023850085176, 0.3155676114002564)\n",
      "(0.41647770219198793, 0.46678023850085176, 0.31203223135199887)\n",
      "(0.41647770219198793, 0.4684838160136286, 0.31191563600373806)\n",
      "(0.41798941798941797, 0.4684838160136286, 0.3112585148619781)\n",
      "(0.41798941798941797, 0.47189097103918226, 0.3106568525224752)\n",
      "(0.41874527588813304, 0.4752981260647359, 0.3103801758042305)\n",
      "(0.42025699168556313, 0.4752981260647359, 0.30967045390901027)\n",
      "(0.42025699168556313, 0.47700170357751276, 0.30939941046827507)\n",
      "(0.4217687074829932, 0.47700170357751276, 0.30911863501827497)\n",
      "(0.4217687074829932, 0.4804088586030664, 0.30825958462117137)\n",
      "(0.42479213907785335, 0.4804088586030664, 0.3061695064585335)\n",
      "(0.42479213907785335, 0.48211243611584326, 0.3058961759979359)\n",
      "(0.4255479969765684, 0.48211243611584326, 0.30589036382003576)\n",
      "(0.4255479969765684, 0.4838160136286201, 0.3053096594474752)\n",
      "(0.4293272864701436, 0.4838160136286201, 0.30366621389667264)\n",
      "(0.4293272864701436, 0.4855195911413969, 0.30350932806300196)\n",
      "(0.4308390022675737, 0.4855195911413969, 0.30341017298073025)\n",
      "(0.43159486016628873, 0.4855195911413969, 0.30322640713960197)\n",
      "(0.43159486016628873, 0.4889267461669506, 0.30214199316392454)\n",
      "(0.43386243386243384, 0.4906303236797274, 0.3017867029608342)\n",
      "(0.43386243386243384, 0.49233390119250425, 0.30177331657366196)\n",
      "(0.43537414965986393, 0.49233390119250425, 0.3014596317377689)\n",
      "(0.436130007558579, 0.49233390119250425, 0.30138603303774375)\n",
      "(0.436885865457294, 0.4940374787052811, 0.3011758907712539)\n",
      "(0.436885865457294, 0.49744463373083475, 0.299643855392941)\n",
      "(0.4376417233560091, 0.49744463373083475, 0.29905895056212245)\n",
      "(0.4376417233560091, 0.5008517887563884, 0.2985287089318799)\n",
      "(0.4383975812547241, 0.5008517887563884, 0.29844220377492753)\n",
      "(0.4383975812547241, 0.5025553662691652, 0.2982768142070205)\n",
      "(0.4399092970521542, 0.5025553662691652, 0.2977479935688948)\n",
      "(0.4399092970521542, 0.5059625212947189, 0.2971386221110128)\n",
      "(0.4414210128495843, 0.5059625212947189, 0.2970022671306984)\n",
      "(0.4429327286470144, 0.5059625212947189, 0.2969829707509809)\n",
      "(0.4436885865457294, 0.5059625212947189, 0.2967940028803068)\n",
      "(0.4436885865457294, 0.5093696763202725, 0.29598791405816477)\n",
      "(0.4467120181405896, 0.5093696763202725, 0.29543650198942345)\n",
      "(0.4482237339380197, 0.5093696763202725, 0.2949743583459916)\n",
      "(0.4497354497354497, 0.5093696763202725, 0.2949271479243488)\n",
      "(0.4497354497354497, 0.5110732538330494, 0.2947553762884803)\n",
      "(0.4520030234315949, 0.5110732538330494, 0.29366931675232294)\n",
      "(0.4520030234315949, 0.5127768313458262, 0.2931027913437697)\n",
      "(0.45351473922902497, 0.5127768313458262, 0.29243189139699166)\n",
      "(0.45427059712774, 0.514480408858603, 0.29229066781661694)\n",
      "(0.45880574452003026, 0.514480408858603, 0.2909142713177968)\n",
      "(0.45880574452003026, 0.5161839863713799, 0.2908651125309366)\n",
      "(0.4595616024187453, 0.5161839863713799, 0.2907341288791656)\n",
      "(0.4595616024187453, 0.5195911413969335, 0.28985392515388825)\n",
      "(0.4603174603174603, 0.5195911413969335, 0.28964869996494136)\n",
      "(0.4603174603174603, 0.5229982964224872, 0.2893698113809996)\n",
      "(0.46107331821617537, 0.5229982964224872, 0.289157704512295)\n",
      "(0.46258503401360546, 0.5229982964224872, 0.2886616119536497)\n",
      "(0.46258503401360546, 0.5264054514480409, 0.2885050370485397)\n",
      "(0.4671201814058957, 0.5264054514480409, 0.2876762219827158)\n",
      "(0.4671201814058957, 0.5281090289608177, 0.2876353120791804)\n",
      "(0.46787603930461075, 0.5281090289608177, 0.287298652841007)\n",
      "(0.47165532879818595, 0.5281090289608177, 0.28692846973986)\n",
      "(0.47241118669690096, 0.5281090289608177, 0.2866389045432063)\n",
      "(0.47241118669690096, 0.5298126064735945, 0.2862250749197309)\n",
      "(0.47467876039304613, 0.5298126064735945, 0.2856618295339981)\n",
      "(0.47467876039304613, 0.5315161839863713, 0.2854031122042873)\n",
      "(0.47543461829176115, 0.5315161839863713, 0.28465270466501796)\n",
      "(0.47543461829176115, 0.5332197614991482, 0.2844365666674417)\n",
      "(0.48072562358276644, 0.5332197614991482, 0.2821580057664949)\n",
      "(0.48072562358276644, 0.534923339011925, 0.2820822719885201)\n",
      "(0.48299319727891155, 0.534923339011925, 0.28102136085513946)\n",
      "(0.4860166288737717, 0.5366269165247018, 0.28076519442582226)\n",
      "(0.48828420256991684, 0.5366269165247018, 0.2802263988351295)\n",
      "(0.4897959183673469, 0.5366269165247018, 0.2795775995429648)\n",
      "(0.49206349206349204, 0.5366269165247018, 0.27881367003123836)\n",
      "(0.49206349206349204, 0.5383304940374787, 0.2780368028089884)\n",
      "(0.4928193499622071, 0.5383304940374787, 0.27789840708128416)\n",
      "(0.4928193499622071, 0.5400340715502555, 0.2778776923812827)\n",
      "(0.4943310657596372, 0.5400340715502555, 0.2775030451205631)\n",
      "(0.4950869236583522, 0.5417376490630323, 0.27735694850968934)\n",
      "(0.4965986394557823, 0.5417376490630323, 0.27610365125727265)\n",
      "(0.4965986394557823, 0.5468483816013628, 0.27553211637966346)\n",
      "(0.4973544973544973, 0.5468483816013628, 0.2752774419876873)\n",
      "(0.4973544973544973, 0.5485519591141397, 0.2751094387739821)\n",
      "(0.4988662131519274, 0.5485519591141397, 0.2748664657173691)\n",
      "(0.4996220710506425, 0.5485519591141397, 0.27468330990344875)\n",
      "(0.5003779289493575, 0.5502555366269165, 0.2746214702391427)\n",
      "(0.5003779289493575, 0.5519591141396933, 0.27445322122691684)\n",
      "(0.5011337868480725, 0.5519591141396933, 0.2742435476418979)\n",
      "(0.5011337868480725, 0.5536626916524702, 0.2738869127982359)\n",
      "(0.5056689342403629, 0.5536626916524702, 0.2723255638790521)\n",
      "(0.5056689342403629, 0.555366269165247, 0.2722356753662191)\n",
      "(0.5086923658352229, 0.555366269165247, 0.2719916697465297)\n",
      "(0.509448223733938, 0.555366269165247, 0.27183471618726285)\n",
      "(0.5117157974300831, 0.555366269165247, 0.2711890951620663)\n",
      "(0.5117157974300831, 0.5587734241908007, 0.2711187235601069)\n",
      "(0.5139833711262283, 0.5587734241908007, 0.2703114610650674)\n",
      "(0.5139833711262283, 0.5604770017035775, 0.26990840477221933)\n",
      "(0.5147392290249433, 0.5604770017035775, 0.2695211108488868)\n",
      "(0.5147392290249433, 0.5621805792163543, 0.26876818753622617)\n",
      "(0.5154950869236583, 0.5621805792163543, 0.26876207221971626)\n",
      "(0.5154950869236583, 0.5638841567291312, 0.2684367584319933)\n",
      "(0.5185185185185185, 0.5638841567291312, 0.26820306487294443)\n",
      "(0.5185185185185185, 0.5672913117546848, 0.2671142562394854)\n",
      "(0.5238095238095238, 0.5672913117546848, 0.2642641894263969)\n",
      "(0.5238095238095238, 0.5689948892674617, 0.26359352824686805)\n",
      "(0.5245653817082389, 0.5706984667802385, 0.2633799714470709)\n",
      "(0.526832955404384, 0.5706984667802385, 0.26285120547728746)\n",
      "(0.528344671201814, 0.5706984667802385, 0.26245206262300713)\n",
      "(0.5291005291005291, 0.5724020442930153, 0.26107352500990044)\n",
      "(0.5306122448979592, 0.5724020442930153, 0.2606613192478761)\n",
      "(0.5306122448979592, 0.5741056218057922, 0.2603084665342468)\n",
      "(0.5321239606953893, 0.5741056218057922, 0.2596914254903801)\n",
      "(0.5321239606953893, 0.5792163543441227, 0.2593560156381432)\n",
      "(0.5366591080876795, 0.5792163543441227, 0.2571847995982159)\n",
      "(0.5366591080876795, 0.5809199318568995, 0.2562127761037389)\n",
      "(0.5389266817838246, 0.5809199318568995, 0.2555727454245159)\n",
      "(0.5389266817838246, 0.5826235093696763, 0.2555670118602018)\n",
      "(0.5411942554799698, 0.5826235093696763, 0.25494649992776053)\n",
      "(0.5411942554799698, 0.58603066439523, 0.25423840273194204)\n",
      "(0.5427059712773998, 0.58603066439523, 0.2535131278536462)\n",
      "(0.5427059712773998, 0.5877342419080068, 0.25334369058986855)\n",
      "(0.5434618291761149, 0.5877342419080068, 0.2532806142664947)\n",
      "(0.5434618291761149, 0.5894378194207837, 0.252772554593741)\n",
      "(0.54421768707483, 0.5894378194207837, 0.25269345143517974)\n",
      "(0.54421768707483, 0.5911413969335605, 0.2525499770574035)\n",
      "(0.544973544973545, 0.5911413969335605, 0.25222510957195615)\n",
      "(0.546485260770975, 0.5911413969335605, 0.25158651639158386)\n",
      "(0.5479969765684052, 0.5911413969335605, 0.2511864150950417)\n",
      "(0.5479969765684052, 0.5928449744463373, 0.2511057000357536)\n",
      "(0.5487528344671202, 0.5928449744463373, 0.25063808641242896)\n",
      "(0.5487528344671202, 0.596252129471891, 0.2499198662242561)\n",
      "(0.5510204081632653, 0.596252129471891, 0.2498946825820238)\n",
      "(0.5547996976568406, 0.596252129471891, 0.24881996613601795)\n",
      "(0.5547996976568406, 0.5979557069846678, 0.24874575595708198)\n",
      "(0.5570672713529856, 0.5979557069846678, 0.2472049077394421)\n",
      "(0.5570672713529856, 0.6030664395229983, 0.24669445325613748)\n",
      "(0.5578231292517006, 0.6030664395229983, 0.24663354876886692)\n",
      "(0.5578231292517006, 0.6047700170357752, 0.2465613312158503)\n",
      "(0.5585789871504158, 0.606473594548552, 0.24645885148880903)\n",
      "(0.5593348450491308, 0.606473594548552, 0.24597283073966622)\n",
      "(0.5593348450491308, 0.6081771720613288, 0.24551327457378508)\n",
      "(0.5600907029478458, 0.6081771720613288, 0.2451350003681744)\n",
      "(0.5600907029478458, 0.6098807495741057, 0.2439649475402522)\n",
      "(0.5608465608465608, 0.6098807495741057, 0.24382753523295606)\n",
      "(0.5608465608465608, 0.6132879045996593, 0.24312006056492932)\n",
      "(0.5616024187452758, 0.6132879045996593, 0.24238459434743603)\n",
      "(0.5616024187452758, 0.6149914821124361, 0.2423248686689231)\n",
      "(0.562358276643991, 0.6149914821124361, 0.24182317472668396)\n",
      "(0.562358276643991, 0.616695059625213, 0.24169827361861734)\n",
      "(0.5661375661375662, 0.616695059625213, 0.24087122841181158)\n",
      "(0.5661375661375662, 0.6201022146507666, 0.24051911331542436)\n",
      "(0.5676492819349962, 0.6201022146507666, 0.24040431240381305)\n",
      "(0.5676492819349962, 0.6218057921635435, 0.23955228861852448)\n",
      "(0.5699168556311414, 0.6218057921635435, 0.239428940305343)\n",
      "(0.5699168556311414, 0.6252129471890971, 0.2393169178792936)\n",
      "(0.5714285714285714, 0.6252129471890971, 0.23916840896947228)\n",
      "(0.5752078609221466, 0.6252129471890971, 0.23762329348345612)\n",
      "(0.5782312925170068, 0.6252129471890971, 0.23681695416107648)\n",
      "(0.5782312925170068, 0.626916524701874, 0.2366280230969828)\n",
      "(0.5797430083144369, 0.626916524701874, 0.23642067472593764)\n",
      "(0.5797430083144369, 0.6303236797274276, 0.2356770034555598)\n",
      "(0.582010582010582, 0.6303236797274276, 0.23491616749866576)\n",
      "(0.582010582010582, 0.6320272572402045, 0.23481188736869682)\n",
      "(0.5873015873015873, 0.6320272572402045, 0.23364926303506434)\n",
      "(0.5895691609977324, 0.6337308347529813, 0.23317579146794515)\n",
      "(0.5918367346938775, 0.6337308347529813, 0.23140929959990295)\n",
      "(0.5918367346938775, 0.6354344122657581, 0.23099087041062605)\n",
      "(0.5933484504913077, 0.6354344122657581, 0.2308792805596902)\n",
      "(0.5941043083900227, 0.637137989778535, 0.23085542506325432)\n",
      "(0.5956160241874527, 0.637137989778535, 0.23071232505085254)\n",
      "(0.5956160241874527, 0.6388415672913118, 0.23027742531244608)\n",
      "(0.5963718820861678, 0.6388415672913118, 0.23026682804845947)\n",
      "(0.5971277399848829, 0.6405451448040886, 0.23010328502676075)\n",
      "(0.600151171579743, 0.6405451448040886, 0.2294473015913338)\n",
      "(0.600151171579743, 0.6439522998296422, 0.22906679795221857)\n",
      "(0.6031746031746031, 0.6439522998296422, 0.2280562733795281)\n",
      "(0.6031746031746031, 0.645655877342419, 0.2278778405288004)\n",
      "(0.6054421768707483, 0.645655877342419, 0.22765147146186718)\n",
      "(0.6054421768707483, 0.6473594548551959, 0.22760128018745032)\n",
      "(0.6084656084656085, 0.6473594548551959, 0.22715304714675844)\n",
      "(0.6084656084656085, 0.6490630323679727, 0.22677796137695572)\n",
      "(0.6092214663643235, 0.6490630323679727, 0.22666582115088033)\n",
      "(0.6107331821617535, 0.6490630323679727, 0.2263934974994676)\n",
      "(0.6107331821617535, 0.6507666098807495, 0.22582338923375286)\n",
      "(0.6122448979591837, 0.6507666098807495, 0.22537492720467966)\n",
      "(0.6122448979591837, 0.6524701873935264, 0.22495059665063857)\n",
      "(0.6145124716553289, 0.6524701873935264, 0.2247945006662571)\n",
      "(0.6145124716553289, 0.6541737649063032, 0.22463542800523287)\n",
      "(0.6152683295540439, 0.65587734241908, 0.22457030367834893)\n",
      "(0.6160241874527589, 0.65587734241908, 0.22419824547827466)\n",
      "(0.6167800453514739, 0.6592844974446337, 0.22413064285938766)\n",
      "(0.6167800453514739, 0.6609880749574105, 0.223904948202675)\n",
      "(0.6175359032501889, 0.6609880749574105, 0.22275982762810265)\n",
      "(0.6175359032501889, 0.6626916524701874, 0.2222350827952711)\n",
      "(0.6175359032501889, 0.666098807495741, 0.22200593945777647)\n",
      "(0.6175359032501889, 0.6678023850085179, 0.22169518516799497)\n",
      "(0.618291761148904, 0.6678023850085179, 0.2215833697800986)\n",
      "(0.6190476190476191, 0.6695059625212947, 0.22150537509485804)\n",
      "(0.6205593348450491, 0.6695059625212947, 0.221127293672637)\n",
      "(0.6205593348450491, 0.6712095400340715, 0.22019241230259637)\n",
      "(0.6250944822373394, 0.6712095400340715, 0.21880213939541118)\n",
      "(0.6266061980347695, 0.6729131175468483, 0.21852729626742692)\n",
      "(0.6281179138321995, 0.6729131175468483, 0.21797141548198704)\n",
      "(0.6281179138321995, 0.6746166950596252, 0.2178900878864165)\n",
      "(0.6288737717309146, 0.6746166950596252, 0.21768927757452075)\n",
      "(0.6288737717309146, 0.6814310051107325, 0.2175368060675801)\n",
      "(0.6288737717309146, 0.6848381601362862, 0.21739402519871354)\n",
      "(0.6296296296296297, 0.6848381601362862, 0.21707030505588493)\n",
      "(0.6311413454270597, 0.6848381601362862, 0.2168557264068507)\n",
      "(0.6334089191232048, 0.6848381601362862, 0.2162684623548133)\n",
      "(0.6349206349206349, 0.6848381601362862, 0.2159493934665108)\n",
      "(0.63567649281935, 0.6848381601362862, 0.2152727438151869)\n",
      "(0.63567649281935, 0.686541737649063, 0.21525196310208178)\n",
      "(0.636432350718065, 0.686541737649063, 0.2150554087961509)\n",
      "(0.6386999244142101, 0.6899488926746167, 0.21496737361393625)\n",
      "(0.6394557823129252, 0.6899488926746167, 0.21491110188766396)\n",
      "(0.6394557823129252, 0.6916524701873935, 0.2148816092597977)\n",
      "(0.6402116402116402, 0.6916524701873935, 0.21437711583629712)\n",
      "(0.6402116402116402, 0.6950596252129472, 0.21419183517221366)\n",
      "(0.6409674981103552, 0.6950596252129472, 0.21410891836181617)\n",
      "(0.6417233560090703, 0.696763202725724, 0.213709919237457)\n",
      "(0.6417233560090703, 0.7001703577512777, 0.21191498840383347)\n",
      "(0.6424792139077853, 0.7001703577512777, 0.2114309931597456)\n",
      "(0.6424792139077853, 0.7018739352640545, 0.21112771962128754)\n",
      "(0.6439909297052154, 0.7018739352640545, 0.21077595421009562)\n",
      "(0.6439909297052154, 0.7052810902896082, 0.210256810771011)\n",
      "(0.6455026455026455, 0.706984667802385, 0.20989484299681563)\n",
      "(0.6462585034013606, 0.706984667802385, 0.20981751236974938)\n",
      "(0.6470143613000756, 0.7086882453151618, 0.20958195749680608)\n",
      "(0.6470143613000756, 0.7103918228279387, 0.20953124535355325)\n",
      "(0.6485260770975056, 0.7103918228279387, 0.2091766776652115)\n",
      "(0.6485260770975056, 0.7120954003407155, 0.2089249238086722)\n",
      "(0.6492819349962207, 0.7137989778534923, 0.2086138052673007)\n",
      "(0.6500377928949358, 0.7137989778534923, 0.20844097900371156)\n",
      "(0.6500377928949358, 0.7155025553662692, 0.20838098619982454)\n",
      "(0.6507936507936508, 0.7155025553662692, 0.2080373248282994)\n",
      "(0.6507936507936508, 0.717206132879046, 0.2078693191885148)\n",
      "(0.6515495086923658, 0.717206132879046, 0.20768011667925076)\n",
      "(0.6530612244897959, 0.7189097103918228, 0.20739174929212717)\n",
      "(0.653817082388511, 0.7189097103918228, 0.20737770881580878)\n",
      "(0.653817082388511, 0.7206132879045997, 0.20712194318461322)\n",
      "(0.655328798185941, 0.7206132879045997, 0.206734040451294)\n",
      "(0.655328798185941, 0.7223168654173765, 0.20667990808048897)\n",
      "(0.656084656084656, 0.7223168654173765, 0.20615463275802112)\n",
      "(0.656084656084656, 0.7257240204429302, 0.20599723381102017)\n",
      "(0.6583522297808012, 0.7257240204429302, 0.2056050826462304)\n",
      "(0.6583522297808012, 0.7308347529812607, 0.20529693024182188)\n",
      "(0.6628873771730914, 0.7308347529812607, 0.2041133770072406)\n",
      "(0.6628873771730914, 0.7342419080068143, 0.20399030644799612)\n",
      "(0.6643990929705216, 0.7342419080068143, 0.20306451193275735)\n",
      "(0.6643990929705216, 0.7359454855195912, 0.20260032430114866)\n",
      "(0.6659108087679516, 0.7359454855195912, 0.202097876121199)\n",
      "(0.6666666666666666, 0.7359454855195912, 0.20209787612119887)\n",
      "(0.6666666666666666, 0.7393526405451448, 0.2020505439850247)\n",
      "(0.6681783824640968, 0.7393526405451448, 0.20129617713331177)\n",
      "(0.6681783824640968, 0.7410562180579217, 0.20120123062980105)\n",
      "(0.671957671957672, 0.7410562180579217, 0.19979949531157493)\n",
      "(0.671957671957672, 0.7427597955706985, 0.19926707866226054)\n",
      "(0.673469387755102, 0.7427597955706985, 0.19907349766081664)\n",
      "(0.673469387755102, 0.7444633730834753, 0.19900608233406883)\n",
      "(0.6749811035525322, 0.7444633730834753, 0.19848004958265225)\n",
      "(0.6749811035525322, 0.747870528109029, 0.19809738939792862)\n",
      "(0.6772486772486772, 0.747870528109029, 0.19640096923651498)\n",
      "(0.6772486772486772, 0.7495741056218058, 0.1963722799294709)\n",
      "(0.6848072562358276, 0.7495741056218058, 0.19513023269421106)\n",
      "(0.6848072562358276, 0.7512776831345827, 0.19511571798846092)\n",
      "(0.6885865457294029, 0.7512776831345827, 0.19351633968957793)\n",
      "(0.6885865457294029, 0.7546848381601363, 0.19316815056899567)\n",
      "(0.6893424036281179, 0.7546848381601363, 0.1928245492911172)\n",
      "(0.6893424036281179, 0.7563884156729132, 0.19265091248059782)\n",
      "(0.690098261526833, 0.7563884156729132, 0.19258791900933792)\n",
      "(0.690098261526833, 0.75809199318569, 0.1925353962621155)\n",
      "(0.6938775510204082, 0.75809199318569, 0.1913156171066493)\n",
      "(0.6938775510204082, 0.7597955706984668, 0.19126701790158143)\n",
      "(0.6946334089191232, 0.7597955706984668, 0.19076114757872972)\n",
      "(0.6946334089191232, 0.7614991482112436, 0.19042874761995018)\n",
      "(0.6976568405139834, 0.7614991482112436, 0.1894260432834711)\n",
      "(0.6976568405139834, 0.7632027257240205, 0.18900530336884108)\n",
      "(0.6999244142101285, 0.7632027257240205, 0.18860614556132063)\n",
      "(0.6999244142101285, 0.7666098807495741, 0.1883527947360947)\n",
      "(0.7105064247921391, 0.7666098807495741, 0.18521986382680525)\n",
      "(0.7112622826908541, 0.768313458262351, 0.18437773708896227)\n",
      "(0.7127739984882842, 0.768313458262351, 0.18427439662756293)\n",
      "(0.7142857142857143, 0.768313458262351, 0.18394251684814392)\n",
      "(0.7157974300831443, 0.7717206132879046, 0.18307206160450928)\n",
      "(0.7173091458805745, 0.7717206132879046, 0.1829228164235652)\n",
      "(0.7173091458805745, 0.7751277683134583, 0.18265907089414238)\n",
      "(0.7180650037792895, 0.7751277683134583, 0.18254121930345513)\n",
      "(0.7180650037792895, 0.7768313458262351, 0.18241442873785185)\n",
      "(0.7241118669690099, 0.7768313458262351, 0.18126335981408565)\n",
      "(0.7241118669690099, 0.778534923339012, 0.18126097847732786)\n",
      "(0.7263794406651549, 0.778534923339012, 0.180388710333829)\n",
      "(0.7263794406651549, 0.7802385008517888, 0.18024116758564548)\n",
      "(0.7278911564625851, 0.7802385008517888, 0.18009906496668723)\n",
      "(0.7294028722600151, 0.7802385008517888, 0.17989083539460057)\n",
      "(0.7301587301587301, 0.7802385008517888, 0.17983163682129846)\n",
      "(0.7301587301587301, 0.7836456558773425, 0.17980945312091376)\n",
      "(0.7316704459561603, 0.7836456558773425, 0.17943932080096262)\n",
      "(0.7331821617535903, 0.7836456558773425, 0.17938209375647937)\n",
      "(0.7339380196523053, 0.7836456558773425, 0.1790593740987793)\n",
      "(0.7339380196523053, 0.7853492333901193, 0.17870379096353536)\n",
      "(0.7346938775510204, 0.7853492333901193, 0.17854124042496222)\n",
      "(0.7354497354497355, 0.787052810902896, 0.17801203344925787)\n",
      "(0.7354497354497355, 0.7904599659284497, 0.1768567303161922)\n",
      "(0.7369614512471655, 0.7904599659284497, 0.17678910959746855)\n",
      "(0.7369614512471655, 0.7938671209540034, 0.17669651938993564)\n",
      "(0.7407407407407407, 0.7938671209540034, 0.17472519755540927)\n",
      "(0.7407407407407407, 0.7955706984667802, 0.17442195420802906)\n",
      "(0.7414965986394558, 0.7955706984667802, 0.17433850313262694)\n",
      "(0.7414965986394558, 0.797274275979557, 0.17380982372432893)\n",
      "(0.7430083144368859, 0.797274275979557, 0.17376194121188532)\n",
      "(0.7437641723356009, 0.7989778534923339, 0.17361867045125723)\n",
      "(0.7445200302343159, 0.7989778534923339, 0.17255691616867533)\n",
      "(0.746031746031746, 0.7989778534923339, 0.17247116326340148)\n",
      "(0.746031746031746, 0.8006814310051107, 0.17246940417819911)\n",
      "(0.7475434618291761, 0.8006814310051107, 0.17239643687420356)\n",
      "(0.7475434618291761, 0.8023850085178875, 0.17220065278291705)\n",
      "(0.7498110355253212, 0.8023850085178875, 0.17151856369974638)\n",
      "(0.7505668934240363, 0.8040885860306644, 0.1714543097509945)\n",
      "(0.7581254724111867, 0.8040885860306644, 0.1685459955728147)\n",
      "(0.7581254724111867, 0.8091993185689949, 0.16784433994683673)\n",
      "(0.7596371882086168, 0.8091993185689949, 0.16767352310690448)\n",
      "(0.7603930461073318, 0.8109028960817717, 0.16759411827005724)\n",
      "(0.7611489040060468, 0.8109028960817717, 0.16748775034185584)\n",
      "(0.7611489040060468, 0.8126064735945485, 0.1673753822234741)\n",
      "(0.762660619803477, 0.8126064735945485, 0.16703670439605117)\n",
      "(0.762660619803477, 0.8143100511073254, 0.16678521551841696)\n",
      "(0.764172335600907, 0.8143100511073254, 0.1663912401812319)\n",
      "(0.7656840513983371, 0.8143100511073254, 0.16621676612918598)\n",
      "(0.7687074829931972, 0.8143100511073254, 0.1656277256027585)\n",
      "(0.7694633408919124, 0.8160136286201022, 0.1652732857419568)\n",
      "(0.7709750566893424, 0.8160136286201022, 0.16498935370976758)\n",
      "(0.7709750566893424, 0.8211243611584327, 0.164220668769558)\n",
      "(0.7717309145880574, 0.8211243611584327, 0.1639927968891137)\n",
      "(0.7732426303854876, 0.8211243611584327, 0.16398944972536234)\n",
      "(0.7747543461829176, 0.8211243611584327, 0.16362679096629593)\n",
      "(0.7747543461829176, 0.8228279386712095, 0.1636062456267656)\n",
      "(0.7755102040816326, 0.8228279386712095, 0.16336110176653496)\n",
      "(0.7755102040816326, 0.82793867120954, 0.16261411730842396)\n",
      "(0.7762660619803476, 0.82793867120954, 0.16244683073370242)\n",
      "(0.7762660619803476, 0.8313458262350937, 0.16215047692201745)\n",
      "(0.7770219198790628, 0.8330494037478705, 0.16192160795953225)\n",
      "(0.7770219198790628, 0.8347529812606473, 0.1616000693481372)\n",
      "(0.7785336356764928, 0.8347529812606473, 0.16109398993857907)\n",
      "(0.7785336356764928, 0.8364565587734242, 0.16013173951419415)\n",
      "(0.780801209372638, 0.838160136286201, 0.15987485445643038)\n",
      "(0.780801209372638, 0.8415672913117547, 0.15954629377563379)\n",
      "(0.781557067271353, 0.8415672913117547, 0.15846873397818512)\n",
      "(0.781557067271353, 0.8432708688245315, 0.1582875085887591)\n",
      "(0.782312925170068, 0.8449744463373083, 0.1578490998735208)\n",
      "(0.782312925170068, 0.8466780238500852, 0.15751872155393107)\n",
      "(0.783068783068783, 0.8466780238500852, 0.15750972604218588)\n",
      "(0.783068783068783, 0.848381601362862, 0.15731797214179494)\n",
      "(0.7838246409674982, 0.848381601362862, 0.15707835634410433)\n",
      "(0.7838246409674982, 0.8500851788756388, 0.1569317178537363)\n",
      "(0.7898715041572184, 0.8500851788756388, 0.1536157320537735)\n",
      "(0.7898715041572184, 0.8517887563884157, 0.15359294201445972)\n",
      "(0.7906273620559335, 0.8517887563884157, 0.15341877938121345)\n",
      "(0.7921390778533636, 0.8517887563884157, 0.1531054078204363)\n",
      "(0.7959183673469388, 0.8517887563884157, 0.1521863025775963)\n",
      "(0.7966742252456538, 0.8534923339011925, 0.15210424508980266)\n",
      "(0.7974300831443688, 0.8534923339011925, 0.15206853107135557)\n",
      "(0.7974300831443688, 0.8551959114139693, 0.1517429295675261)\n",
      "(0.798941798941799, 0.8551959114139693, 0.1511390370526068)\n",
      "(0.799697656840514, 0.8568994889267462, 0.15049753352936662)\n",
      "(0.799697656840514, 0.858603066439523, 0.1503467304854792)\n",
      "(0.8027210884353742, 0.858603066439523, 0.14803701818584086)\n",
      "(0.8027210884353742, 0.8620102214650767, 0.14755807473585603)\n",
      "(0.8049886621315193, 0.8620102214650767, 0.14702544524203345)\n",
      "(0.8049886621315193, 0.8654173764906303, 0.14671867984316872)\n",
      "(0.8080120937263794, 0.8654173764906303, 0.14513437741124152)\n",
      "(0.8080120937263794, 0.868824531516184, 0.1448290583055577)\n",
      "(0.8095238095238095, 0.868824531516184, 0.14451469994243518)\n",
      "(0.8110355253212396, 0.868824531516184, 0.14446717619294008)\n",
      "(0.8117913832199547, 0.868824531516184, 0.14366835733541788)\n",
      "(0.8117913832199547, 0.8705281090289608, 0.1435194162831205)\n",
      "(0.8133030990173847, 0.8705281090289608, 0.14266360829923297)\n",
      "(0.8133030990173847, 0.8722316865417377, 0.142608303259816)\n",
      "(0.8223733938019653, 0.8722316865417377, 0.13968379079995175)\n",
      "(0.8223733938019653, 0.8739352640545145, 0.13951014476706877)\n",
      "(0.8238851095993953, 0.8739352640545145, 0.13944154994046767)\n",
      "(0.8238851095993953, 0.8773424190800682, 0.1393603837070219)\n",
      "(0.8246409674981103, 0.8773424190800682, 0.13888589365529092)\n",
      "(0.8246409674981103, 0.879045996592845, 0.13877420357631884)\n",
      "(0.8253968253968254, 0.879045996592845, 0.13837858770758757)\n",
      "(0.8253968253968254, 0.8807495741056218, 0.13827774717583496)\n",
      "(0.8284202569916855, 0.8807495741056218, 0.13767165785696173)\n",
      "(0.8284202569916855, 0.8824531516183987, 0.1375156911450739)\n",
      "(0.8314436885865457, 0.8824531516183987, 0.1371720412776718)\n",
      "(0.8329554043839759, 0.8824531516183987, 0.13710048644985165)\n",
      "(0.8329554043839759, 0.8841567291311755, 0.13658092883844808)\n",
      "(0.8374905517762661, 0.8841567291311755, 0.13565378922854762)\n",
      "(0.8374905517762661, 0.8858603066439523, 0.13562263919533513)\n",
      "(0.8397581254724111, 0.8858603066439523, 0.13460649907209882)\n",
      "(0.8412698412698413, 0.8858603066439523, 0.13395890308474895)\n",
      "(0.8450491307634165, 0.8858603066439523, 0.1330445885093889)\n",
      "(0.8450491307634165, 0.8875638841567292, 0.13299286542946168)\n",
      "(0.8488284202569917, 0.8875638841567292, 0.13210731446196258)\n",
      "(0.8488284202569917, 0.8909710391822828, 0.13159739614081067)\n",
      "(0.8495842781557067, 0.8909710391822828, 0.13159291814469648)\n",
      "(0.8495842781557067, 0.8926746166950597, 0.13142005568550783)\n",
      "(0.8503401360544217, 0.8926746166950597, 0.1313926791586243)\n",
      "(0.8518518518518519, 0.8926746166950597, 0.13125451369488186)\n",
      "(0.8518518518518519, 0.8943781942078365, 0.13114084459839992)\n",
      "(0.8526077097505669, 0.8943781942078365, 0.13093490484603784)\n",
      "(0.8526077097505669, 0.8960817717206133, 0.13092590256526268)\n",
      "(0.854119425547997, 0.8960817717206133, 0.13036208217269743)\n",
      "(0.854119425547997, 0.8977853492333902, 0.13026628463153472)\n",
      "(0.854875283446712, 0.8977853492333902, 0.1302026789405665)\n",
      "(0.8563869992441421, 0.899488926746167, 0.13015322770024676)\n",
      "(0.8563869992441421, 0.9011925042589438, 0.1299135752347777)\n",
      "(0.8571428571428571, 0.9011925042589438, 0.1297412580290821)\n",
      "(0.8571428571428571, 0.9045996592844975, 0.1293101738776965)\n",
      "(0.8624338624338624, 0.9045996592844975, 0.12727885131250222)\n",
      "(0.8624338624338624, 0.9063032367972743, 0.12724222887297365)\n",
      "(0.8631897203325775, 0.9063032367972743, 0.12587391026543857)\n",
      "(0.8647014361300076, 0.9063032367972743, 0.12574920566304976)\n",
      "(0.8669690098261527, 0.9063032367972743, 0.12509025615675196)\n",
      "(0.8684807256235828, 0.9080068143100511, 0.12495946289868613)\n",
      "(0.8692365835222978, 0.909710391822828, 0.12464265628103302)\n",
      "(0.8707482993197279, 0.909710391822828, 0.12439038610583299)\n",
      "(0.8707482993197279, 0.9114139693356048, 0.12411234656270093)\n",
      "(0.871504157218443, 0.9114139693356048, 0.12404472213512749)\n",
      "(0.871504157218443, 0.9131175468483816, 0.12393757549254626)\n",
      "(0.872260015117158, 0.9131175468483816, 0.12375467590060607)\n",
      "(0.872260015117158, 0.9148211243611585, 0.12368318614260859)\n",
      "(0.8752834467120182, 0.9148211243611585, 0.12299964740040997)\n",
      "(0.8767951625094482, 0.9148211243611585, 0.12212006839373173)\n",
      "(0.8783068783068783, 0.9148211243611585, 0.12203833041586293)\n",
      "(0.8798185941043084, 0.9148211243611585, 0.12180945833938332)\n",
      "(0.8820861678004536, 0.9148211243611585, 0.12122745516272565)\n",
      "(0.8820861678004536, 0.9165247018739353, 0.121135241778534)\n",
      "(0.8828420256991686, 0.9182282793867121, 0.12096688309667321)\n",
      "(0.8851095993953136, 0.9182282793867121, 0.1205040823057787)\n",
      "(0.8866213151927438, 0.9182282793867121, 0.12019068859084561)\n",
      "(0.8866213151927438, 0.919931856899489, 0.12016419768571796)\n",
      "(0.889644746787604, 0.919931856899489, 0.11883790666561575)\n",
      "(0.8926681783824642, 0.919931856899489, 0.11834326362076146)\n",
      "(0.8956916099773242, 0.919931856899489, 0.1179082754960466)\n",
      "(0.8956916099773242, 0.9233390119250426, 0.11776894643171248)\n",
      "(0.8987150415721844, 0.9233390119250426, 0.11716507316506247)\n",
      "(0.9002267573696145, 0.9233390119250426, 0.1169953210962668)\n",
      "(0.9002267573696145, 0.9250425894378195, 0.11663915391795236)\n",
      "(0.9009826152683296, 0.9267461669505963, 0.11641962935312132)\n",
      "(0.9017384731670446, 0.9301533219761499, 0.11620291633314701)\n",
      "(0.9024943310657596, 0.9301533219761499, 0.11513225233220226)\n",
      "(0.9040060468631897, 0.9352640545144804, 0.11465500416111792)\n",
      "(0.9040060468631897, 0.938671209540034, 0.1141387418775302)\n",
      "(0.9055177626606198, 0.938671209540034, 0.11342127541527296)\n",
      "(0.9070294784580499, 0.938671209540034, 0.11312507211074503)\n",
      "(0.907785336356765, 0.938671209540034, 0.11277875624216681)\n",
      "(0.90854119425548, 0.9403747870528109, 0.1127147705047839)\n",
      "(0.90854119425548, 0.9420783645655877, 0.11253863100014355)\n",
      "(0.9123204837490552, 0.9420783645655877, 0.11087954116085132)\n",
      "(0.9123204837490552, 0.9437819420783645, 0.11053637124675754)\n",
      "(0.9138321995464853, 0.9437819420783645, 0.1102905271930252)\n",
      "(0.9138321995464853, 0.9454855195911414, 0.1100365286699587)\n",
      "(0.9145880574452003, 0.9471890971039182, 0.1090546277482011)\n",
      "(0.9153439153439153, 0.9471890971039182, 0.1084011212509513)\n",
      "(0.9153439153439153, 0.948892674616695, 0.10816850534897865)\n",
      "(0.9168556311413454, 0.9505962521294719, 0.10786914987524292)\n",
      "(0.9183673469387755, 0.9505962521294719, 0.10661955030047446)\n",
      "(0.9191232048374905, 0.9522998296422487, 0.10614337983106235)\n",
      "(0.9206349206349206, 0.9540034071550255, 0.10590761203638326)\n",
      "(0.9236583522297808, 0.9540034071550255, 0.10411416089761373)\n",
      "(0.9236583522297808, 0.9557069846678024, 0.1033391053123318)\n",
      "(0.9244142101284959, 0.9557069846678024, 0.10251221766260231)\n",
      "(0.9259259259259259, 0.9557069846678024, 0.1019427837165524)\n",
      "(0.927437641723356, 0.9557069846678024, 0.10174046035645012)\n",
      "(0.9281934996220711, 0.9574105621805792, 0.10156113383597556)\n",
      "(0.9297052154195011, 0.9574105621805792, 0.10056321325976277)\n",
      "(0.9319727891156463, 0.9574105621805792, 0.09823360418183219)\n",
      "(0.9334845049130763, 0.9608177172061328, 0.09741190510138284)\n",
      "(0.9349962207105065, 0.9608177172061328, 0.09689538424944161)\n",
      "(0.9357520786092215, 0.9625212947189097, 0.09629993995826944)\n",
      "(0.9357520786092215, 0.9642248722316865, 0.09594541270273754)\n",
      "(0.9395313681027967, 0.9642248722316865, 0.09517259483500722)\n",
      "(0.9410430839002267, 0.9642248722316865, 0.09477839992977016)\n",
      "(0.9425547996976569, 0.9642248722316865, 0.09462471860520212)\n",
      "(0.9425547996976569, 0.9659284497444633, 0.09452100905542979)\n",
      "(0.9440665154950869, 0.9659284497444633, 0.09430254356545287)\n",
      "(0.9463340891912321, 0.9659284497444633, 0.09427438455712513)\n",
      "(0.9478458049886621, 0.9659284497444633, 0.09323144906802315)\n",
      "(0.9493575207860923, 0.9676320272572402, 0.09298784375436504)\n",
      "(0.9501133786848073, 0.9676320272572402, 0.09289376254839189)\n",
      "(0.9501133786848073, 0.969335604770017, 0.09260240646197584)\n",
      "(0.9569160997732427, 0.969335604770017, 0.08929427578665187)\n",
      "(0.9584278155706727, 0.9710391822827938, 0.0892494189031176)\n",
      "(0.963718820861678, 0.9710391822827938, 0.08647974456014337)\n",
      "(0.963718820861678, 0.9727427597955707, 0.08644475261706845)\n",
      "(0.9652305366591081, 0.9727427597955707, 0.08622641777059303)\n",
      "(0.9659863945578231, 0.9727427597955707, 0.08595480181910777)\n",
      "(0.9667422524565382, 0.9744463373083475, 0.08572719479490791)\n",
      "(0.9697656840513983, 0.9744463373083475, 0.08460300442214658)\n",
      "(0.9705215419501134, 0.9761499148211243, 0.08454640743107786)\n",
      "(0.9712773998488284, 0.9761499148211243, 0.08444272724506821)\n",
      "(0.9712773998488284, 0.9778534923339012, 0.08386721102553164)\n",
      "(0.9720332577475435, 0.9778534923339012, 0.08341197527513738)\n",
      "(0.9727891156462585, 0.979557069846678, 0.08327802035046733)\n",
      "(0.9735449735449735, 0.979557069846678, 0.08296584615627245)\n",
      "(0.9735449735449735, 0.9812606473594548, 0.0829337369049683)\n",
      "(0.9803476946334089, 0.9812606473594548, 0.07858652892732829)\n",
      "(0.9803476946334089, 0.9846678023850085, 0.07800501372881527)\n",
      "(0.982615268329554, 0.9846678023850085, 0.07544305290866318)\n",
      "(0.9841269841269841, 0.9846678023850085, 0.07476867403882698)\n",
      "(0.9841269841269841, 0.9880749574105622, 0.07392497676657513)\n",
      "(0.9856386999244142, 0.9880749574105622, 0.07274731309834825)\n",
      "(0.9856386999244142, 0.989778534923339, 0.0725305109743286)\n",
      "(0.9909297052154195, 0.989778534923339, 0.07053897511262067)\n",
      "(0.9909297052154195, 0.9948892674616695, 0.06901640869606748)\n",
      "(0.9931972789115646, 0.9948892674616695, 0.06470679988087016)\n",
      "(0.9931972789115646, 0.9965928449744463, 0.06425328795470832)\n",
      "(0.9939531368102796, 0.9965928449744463, 0.06364693886081767)\n",
      "(0.9954648526077098, 0.9965928449744463, 0.06251909325039937)\n",
      "(0.9969765684051398, 0.9965928449744463, 0.060674535722718394)\n",
      "(0.9969765684051398, 0.9982964224872232, 0.056808177153223935)\n",
      "(0.9977324263038548, 0.9982964224872232, 0.05401273136196047)\n",
      "(0.9977324263038548, 1.0, 0.05389872349279814)\n",
      "(1.0, 1.0, 0.0462061111931721)\n"
     ]
    }
   ],
   "source": [
    "for line in zip( fpr, tpr, thres ):\n",
    "    print( line )"
   ]
  },
  {
   "cell_type": "code",
   "execution_count": 64,
   "metadata": {
    "ExecuteTime": {
     "end_time": "2021-11-03T18:56:43.977736Z",
     "start_time": "2021-11-03T18:56:43.748005Z"
    }
   },
   "outputs": [
    {
     "data": {
      "text/plain": [
       "[<matplotlib.lines.Line2D at 0x7fc64eb73be0>]"
      ]
     },
     "execution_count": 64,
     "metadata": {},
     "output_type": "execute_result"
    },
    {
     "data": {
      "image/png": "[encoded data removed]",
      "text/plain": [
       "<Figure size 432x288 with 1 Axes>"
      ]
     },
     "metadata": {
      "needs_background": "light"
     },
     "output_type": "display_data"
    }
   ],
   "source": [
    "plt.plot( fpr, tpr )"
   ]
  },
  {
   "cell_type": "markdown",
   "metadata": {
    "pycharm": {
     "name": "#%% md\n"
    }
   },
   "source": [
    "**Построим еще одну модель и сравним их между собой**"
   ]
  },
  {
   "cell_type": "code",
   "execution_count": 65,
   "metadata": {
    "ExecuteTime": {
     "end_time": "2021-11-03T18:56:44.554889Z",
     "start_time": "2021-11-03T18:56:44.540818Z"
    }
   },
   "outputs": [
    {
     "data": {
      "text/html": [
       "<div>\n",
       "<style scoped>\n",
       "    .dataframe tbody tr th:only-of-type {\n",
       "        vertical-align: middle;\n",
       "    }\n",
       "\n",
       "    .dataframe tbody tr th {\n",
       "        vertical-align: top;\n",
       "    }\n",
       "\n",
       "    .dataframe thead th {\n",
       "        text-align: right;\n",
       "    }\n",
       "</style>\n",
       "<table border=\"1\" class=\"dataframe\">\n",
       "  <thead>\n",
       "    <tr style=\"text-align: right;\">\n",
       "      <th></th>\n",
       "      <th>age</th>\n",
       "      <th>children</th>\n",
       "    </tr>\n",
       "  </thead>\n",
       "  <tbody>\n",
       "    <tr>\n",
       "      <th>0</th>\n",
       "      <td>32.0</td>\n",
       "      <td>3.0</td>\n",
       "    </tr>\n",
       "    <tr>\n",
       "      <th>1</th>\n",
       "      <td>27.0</td>\n",
       "      <td>3.0</td>\n",
       "    </tr>\n",
       "    <tr>\n",
       "      <th>2</th>\n",
       "      <td>22.0</td>\n",
       "      <td>0.0</td>\n",
       "    </tr>\n",
       "    <tr>\n",
       "      <th>3</th>\n",
       "      <td>37.0</td>\n",
       "      <td>4.0</td>\n",
       "    </tr>\n",
       "    <tr>\n",
       "      <th>4</th>\n",
       "      <td>27.0</td>\n",
       "      <td>1.0</td>\n",
       "    </tr>\n",
       "  </tbody>\n",
       "</table>\n",
       "</div>"
      ],
      "text/plain": [
       "    age  children\n",
       "0  32.0       3.0\n",
       "1  27.0       3.0\n",
       "2  22.0       0.0\n",
       "3  37.0       4.0\n",
       "4  27.0       1.0"
      ]
     },
     "execution_count": 65,
     "metadata": {},
     "output_type": "execute_result"
    }
   ],
   "source": [
    "Xshort = X.loc[ :, ['age', 'children'] ]\n",
    "Xshort.head()\n"
   ]
  },
  {
   "cell_type": "code",
   "execution_count": 66,
   "metadata": {
    "ExecuteTime": {
     "end_time": "2021-11-03T18:56:45.213812Z",
     "start_time": "2021-11-03T18:56:45.204784Z"
    },
    "pycharm": {
     "name": "#%%\n"
    }
   },
   "outputs": [],
   "source": [
    "model2 = LogisticRegression()"
   ]
  },
  {
   "cell_type": "code",
   "execution_count": 67,
   "metadata": {
    "ExecuteTime": {
     "end_time": "2021-11-03T18:56:45.804401Z",
     "start_time": "2021-11-03T18:56:45.793589Z"
    },
    "pycharm": {
     "name": "#%%\n"
    }
   },
   "outputs": [],
   "source": [
    "X_train_short, X_test_short, Y_train, Y_test = train_test_split( Xshort, Y, test_size = 0.3, random_state = 0 )"
   ]
  },
  {
   "cell_type": "code",
   "execution_count": 68,
   "metadata": {
    "ExecuteTime": {
     "end_time": "2021-11-03T18:56:46.563873Z",
     "start_time": "2021-11-03T18:56:46.494062Z"
    }
   },
   "outputs": [
    {
     "data": {
      "text/plain": [
       "LogisticRegression()"
      ]
     },
     "execution_count": 68,
     "metadata": {},
     "output_type": "execute_result"
    }
   ],
   "source": [
    "model2.fit( X_train_short, Y_train )"
   ]
  },
  {
   "cell_type": "code",
   "execution_count": 69,
   "metadata": {
    "ExecuteTime": {
     "end_time": "2021-11-03T18:56:47.154432Z",
     "start_time": "2021-11-03T18:56:47.145590Z"
    }
   },
   "outputs": [],
   "source": [
    "predictions2 = model2.predict_proba( X_test_short )"
   ]
  },
  {
   "cell_type": "code",
   "execution_count": 70,
   "metadata": {
    "ExecuteTime": {
     "end_time": "2021-11-03T18:56:47.655739Z",
     "start_time": "2021-11-03T18:56:47.648085Z"
    }
   },
   "outputs": [],
   "source": [
    "fpr2, tpr2, thres2 = roc_curve( Y_test, predictions2[:, 1] )"
   ]
  },
  {
   "cell_type": "code",
   "execution_count": 71,
   "metadata": {
    "ExecuteTime": {
     "end_time": "2021-11-03T18:56:48.510480Z",
     "start_time": "2021-11-03T18:56:48.297274Z"
    }
   },
   "outputs": [
    {
     "data": {
      "image/png": "[encoded data removed]",
      "text/plain": [
       "<Figure size 432x288 with 1 Axes>"
      ]
     },
     "metadata": {
      "needs_background": "light"
     },
     "output_type": "display_data"
    }
   ],
   "source": [
    "plt.plot( fpr, tpr, label = 'All columns' )\n",
    "plt.plot( fpr2, tpr2, label = 'Age & children' )\n",
    "\n",
    "plt.xlabel('False Positive Rate')\n",
    "plt.ylabel('True Positive Rate')\n",
    "\n",
    "plt.legend( loc = 0 )\n",
    "plt.show()"
   ]
  },
  {
   "cell_type": "markdown",
   "metadata": {
    "pycharm": {
     "name": "#%% md\n"
    }
   },
   "source": [
    "**Посчитаем площадь под ROC-кривой для двух моделей**"
   ]
  },
  {
   "cell_type": "code",
   "execution_count": 72,
   "metadata": {
    "ExecuteTime": {
     "end_time": "2021-11-03T18:56:49.114863Z",
     "start_time": "2021-11-03T18:56:49.109377Z"
    }
   },
   "outputs": [],
   "source": [
    "from sklearn.metrics import roc_curve"
   ]
  },
  {
   "cell_type": "code",
   "execution_count": 73,
   "metadata": {
    "ExecuteTime": {
     "end_time": "2021-11-03T18:56:49.639769Z",
     "start_time": "2021-11-03T18:56:49.634498Z"
    }
   },
   "outputs": [],
   "source": [
    "from sklearn.metrics import roc_auc_score"
   ]
  },
  {
   "cell_type": "markdown",
   "metadata": {},
   "source": [
    "roc_auc_score( Y_test, predictions[:, 1] )"
   ]
  },
  {
   "cell_type": "code",
   "execution_count": 74,
   "metadata": {
    "ExecuteTime": {
     "end_time": "2021-11-03T18:56:50.176418Z",
     "start_time": "2021-11-03T18:56:50.163739Z"
    }
   },
   "outputs": [
    {
     "data": {
      "text/plain": [
       "0.6311452091928271"
      ]
     },
     "execution_count": 74,
     "metadata": {},
     "output_type": "execute_result"
    }
   ],
   "source": [
    "roc_auc_score( Y_test, predictions2[:, 1] )"
   ]
  },
  {
   "cell_type": "markdown",
   "metadata": {
    "ExecuteTime": {
     "end_time": "2021-11-03T18:56:50.708725Z",
     "start_time": "2021-11-03T18:56:50.698925Z"
    }
   },
   "source": [
    "Можно посчитать с помощью более общего метода auc\n",
    "\n",
    "Про разницу между ними https://stackoverflow.com/questions/31159157/different-result-with-roc-auc-score-and-auc"
   ]
  },
  {
   "cell_type": "code",
   "execution_count": 76,
   "metadata": {
    "ExecuteTime": {
     "end_time": "2021-11-03T18:57:16.355812Z",
     "start_time": "2021-11-03T18:57:16.350718Z"
    }
   },
   "outputs": [],
   "source": [
    "from sklearn.metrics import auc"
   ]
  },
  {
   "cell_type": "code",
   "execution_count": 77,
   "metadata": {
    "ExecuteTime": {
     "end_time": "2021-11-03T18:57:17.181750Z",
     "start_time": "2021-11-03T18:57:17.164049Z"
    }
   },
   "outputs": [
    {
     "data": {
      "text/plain": [
       "0.5332242683179651"
      ]
     },
     "execution_count": 77,
     "metadata": {},
     "output_type": "execute_result"
    }
   ],
   "source": [
    "auc( fpr, tpr )"
   ]
  },
  {
   "cell_type": "markdown",
   "metadata": {},
   "source": [
    "auc( fpr2, tpr2 )"
   ]
  },
  {
   "cell_type": "code",
   "execution_count": 78,
   "metadata": {
    "ExecuteTime": {
     "end_time": "2021-11-03T18:57:18.056644Z",
     "start_time": "2021-11-03T18:57:18.052026Z"
    }
   },
   "outputs": [],
   "source": [
    "## Пример влияния L1 и L2-регуляризации"
   ]
  },
  {
   "cell_type": "code",
   "execution_count": 79,
   "metadata": {
    "ExecuteTime": {
     "end_time": "2021-11-03T18:57:18.754678Z",
     "start_time": "2021-11-03T18:57:18.722049Z"
    }
   },
   "outputs": [],
   "source": [
    "model1 = LogisticRegression( penalty = 'l1', C = 0.01, solver='liblinear' ).fit( X_train, Y_train )\n",
    "predictions = model1.predict_proba( X_test )"
   ]
  },
  {
   "cell_type": "code",
   "execution_count": 80,
   "metadata": {
    "ExecuteTime": {
     "end_time": "2021-11-03T18:57:19.379475Z",
     "start_time": "2021-11-03T18:57:19.354626Z"
    }
   },
   "outputs": [],
   "source": [
    "model2 = LogisticRegression( penalty = 'l2', C = 0.01, solver='liblinear' ).fit( X_train, Y_train )\n",
    "predictions2 = model2.predict_proba( X_test )"
   ]
  },
  {
   "cell_type": "markdown",
   "metadata": {},
   "source": []
  },
  {
   "cell_type": "code",
   "execution_count": 81,
   "metadata": {
    "ExecuteTime": {
     "end_time": "2021-11-03T18:57:20.108958Z",
     "start_time": "2021-11-03T18:57:20.075657Z"
    },
    "pycharm": {
     "name": "#%%\n"
    }
   },
   "outputs": [],
   "source": [
    "model3 = LogisticRegression( penalty = 'l2', C = 1, solver='liblinear' ).fit( X_train, Y_train )\n",
    "predictions3 = model3.predict_proba( X_test )"
   ]
  },
  {
   "cell_type": "code",
   "execution_count": 82,
   "metadata": {
    "ExecuteTime": {
     "end_time": "2021-11-03T18:57:20.124744Z",
     "start_time": "2021-11-03T18:57:20.111649Z"
    },
    "pycharm": {
     "name": "#%%\n"
    }
   },
   "outputs": [],
   "source": [
    "fpr, tpr, thres = roc_curve( Y_test, predictions[:, 1] )\n",
    "fpr2, tpr2, thres2 = roc_curve( Y_test, predictions2[:, 1] )\n",
    "fpr3, tpr3, thres3 = roc_curve( Y_test, predictions3[:, 1] )"
   ]
  },
  {
   "cell_type": "code",
   "execution_count": 83,
   "metadata": {
    "ExecuteTime": {
     "end_time": "2021-11-03T18:57:20.406839Z",
     "start_time": "2021-11-03T18:57:20.128283Z"
    }
   },
   "outputs": [
    {
     "data": {
      "image/png": "[encoded data removed]",
      "text/plain": [
       "<Figure size 432x288 with 1 Axes>"
      ]
     },
     "metadata": {
      "needs_background": "light"
     },
     "output_type": "display_data"
    }
   ],
   "source": [
    "plt.plot( fpr, tpr, label = 'l1' )\n",
    "plt.plot( fpr2, tpr2, label = 'l2' )\n",
    "plt.plot( fpr3, tpr3, label = 'C=1' )\n",
    "\n",
    "plt.xlabel('False Positive Rate')\n",
    "plt.ylabel('True Positive Rate')\n",
    "\n",
    "plt.legend( loc = 0 )\n",
    "plt.show()"
   ]
  },
  {
   "cell_type": "markdown",
   "metadata": {
    "ExecuteTime": {
     "end_time": "2021-11-03T18:57:20.426919Z",
     "start_time": "2021-11-03T18:57:20.410658Z"
    }
   },
   "source": [
    "**Построим еще одну модель, используя другие признаки**"
   ]
  },
  {
   "cell_type": "code",
   "execution_count": 85,
   "metadata": {
    "ExecuteTime": {
     "end_time": "2021-11-03T18:57:28.804140Z",
     "start_time": "2021-11-03T18:57:28.779878Z"
    }
   },
   "outputs": [
    {
     "data": {
      "text/html": [
       "<div>\n",
       "<style scoped>\n",
       "    .dataframe tbody tr th:only-of-type {\n",
       "        vertical-align: middle;\n",
       "    }\n",
       "\n",
       "    .dataframe tbody tr th {\n",
       "        vertical-align: top;\n",
       "    }\n",
       "\n",
       "    .dataframe thead th {\n",
       "        text-align: right;\n",
       "    }\n",
       "</style>\n",
       "<table border=\"1\" class=\"dataframe\">\n",
       "  <thead>\n",
       "    <tr style=\"text-align: right;\">\n",
       "      <th></th>\n",
       "      <th>age_17.5</th>\n",
       "      <th>age_22.0</th>\n",
       "      <th>age_27.0</th>\n",
       "      <th>age_32.0</th>\n",
       "      <th>age_37.0</th>\n",
       "      <th>age_42.0</th>\n",
       "      <th>children_0.0</th>\n",
       "      <th>children_1.0</th>\n",
       "      <th>children_2.0</th>\n",
       "      <th>children_3.0</th>\n",
       "      <th>children_4.0</th>\n",
       "      <th>children_5.5</th>\n",
       "    </tr>\n",
       "  </thead>\n",
       "  <tbody>\n",
       "    <tr>\n",
       "      <th>0</th>\n",
       "      <td>0</td>\n",
       "      <td>0</td>\n",
       "      <td>0</td>\n",
       "      <td>1</td>\n",
       "      <td>0</td>\n",
       "      <td>0</td>\n",
       "      <td>0</td>\n",
       "      <td>0</td>\n",
       "      <td>0</td>\n",
       "      <td>1</td>\n",
       "      <td>0</td>\n",
       "      <td>0</td>\n",
       "    </tr>\n",
       "    <tr>\n",
       "      <th>1</th>\n",
       "      <td>0</td>\n",
       "      <td>0</td>\n",
       "      <td>1</td>\n",
       "      <td>0</td>\n",
       "      <td>0</td>\n",
       "      <td>0</td>\n",
       "      <td>0</td>\n",
       "      <td>0</td>\n",
       "      <td>0</td>\n",
       "      <td>1</td>\n",
       "      <td>0</td>\n",
       "      <td>0</td>\n",
       "    </tr>\n",
       "    <tr>\n",
       "      <th>2</th>\n",
       "      <td>0</td>\n",
       "      <td>1</td>\n",
       "      <td>0</td>\n",
       "      <td>0</td>\n",
       "      <td>0</td>\n",
       "      <td>0</td>\n",
       "      <td>1</td>\n",
       "      <td>0</td>\n",
       "      <td>0</td>\n",
       "      <td>0</td>\n",
       "      <td>0</td>\n",
       "      <td>0</td>\n",
       "    </tr>\n",
       "    <tr>\n",
       "      <th>3</th>\n",
       "      <td>0</td>\n",
       "      <td>0</td>\n",
       "      <td>0</td>\n",
       "      <td>0</td>\n",
       "      <td>1</td>\n",
       "      <td>0</td>\n",
       "      <td>0</td>\n",
       "      <td>0</td>\n",
       "      <td>0</td>\n",
       "      <td>0</td>\n",
       "      <td>1</td>\n",
       "      <td>0</td>\n",
       "    </tr>\n",
       "    <tr>\n",
       "      <th>4</th>\n",
       "      <td>0</td>\n",
       "      <td>0</td>\n",
       "      <td>1</td>\n",
       "      <td>0</td>\n",
       "      <td>0</td>\n",
       "      <td>0</td>\n",
       "      <td>0</td>\n",
       "      <td>1</td>\n",
       "      <td>0</td>\n",
       "      <td>0</td>\n",
       "      <td>0</td>\n",
       "      <td>0</td>\n",
       "    </tr>\n",
       "  </tbody>\n",
       "</table>\n",
       "</div>"
      ],
      "text/plain": [
       "   age_17.5  age_22.0  age_27.0  age_32.0  age_37.0  age_42.0  children_0.0  \\\n",
       "0         0         0         0         1         0         0             0   \n",
       "1         0         0         1         0         0         0             0   \n",
       "2         0         1         0         0         0         0             1   \n",
       "3         0         0         0         0         1         0             0   \n",
       "4         0         0         1         0         0         0             0   \n",
       "\n",
       "   children_1.0  children_2.0  children_3.0  children_4.0  children_5.5  \n",
       "0             0             0             1             0             0  \n",
       "1             0             0             1             0             0  \n",
       "2             0             0             0             0             0  \n",
       "3             0             0             0             1             0  \n",
       "4             1             0             0             0             0  "
      ]
     },
     "execution_count": 85,
     "metadata": {},
     "output_type": "execute_result"
    }
   ],
   "source": [
    "Xshort = pd.get_dummies( data.loc[ :, ['age', 'children'] ], columns = ['age', 'children'] )\n",
    "Xshort.head()"
   ]
  },
  {
   "cell_type": "code",
   "execution_count": 86,
   "metadata": {
    "ExecuteTime": {
     "end_time": "2021-11-03T18:57:29.700849Z",
     "start_time": "2021-11-03T18:57:29.661803Z"
    }
   },
   "outputs": [],
   "source": [
    "Y = data['affair']"
   ]
  },
  {
   "cell_type": "code",
   "execution_count": 87,
   "metadata": {
    "ExecuteTime": {
     "end_time": "2021-11-03T18:57:30.611148Z",
     "start_time": "2021-11-03T18:57:30.600178Z"
    }
   },
   "outputs": [],
   "source": [
    "X_train, X_test, Y_train, Y_test = train_test_split( Xshort, Y, test_size = 0.3, random_state = 0 )"
   ]
  },
  {
   "cell_type": "code",
   "execution_count": 89,
   "metadata": {
    "ExecuteTime": {
     "end_time": "2021-11-03T18:57:45.559289Z",
     "start_time": "2021-11-03T18:57:45.528064Z"
    }
   },
   "outputs": [],
   "source": [
    "model1 = LogisticRegression( penalty = 'l1', C = 0.01, solver='liblinear' ).fit( X_train, Y_train )\n",
    "model2 = LogisticRegression( penalty = 'l2', C = 0.01, solver='liblinear' ).fit( X_train, Y_train )\n",
    "model3 = LogisticRegression( penalty = 'l2', C = 1, solver='liblinear' ).fit( X_train, Y_train )"
   ]
  },
  {
   "cell_type": "code",
   "execution_count": 90,
   "metadata": {
    "ExecuteTime": {
     "end_time": "2021-11-03T18:57:46.377614Z",
     "start_time": "2021-11-03T18:57:46.359918Z"
    }
   },
   "outputs": [],
   "source": [
    "predictions = model1.predict_proba( X_test )\n",
    "predictions2 = model2.predict_proba( X_test )\n",
    "predictions3 = model3.predict_proba( X_test )"
   ]
  },
  {
   "cell_type": "code",
   "execution_count": 91,
   "metadata": {
    "ExecuteTime": {
     "end_time": "2021-11-03T18:57:47.098350Z",
     "start_time": "2021-11-03T18:57:47.088178Z"
    }
   },
   "outputs": [],
   "source": [
    "fpr, tpr, thres = roc_curve( Y_test, predictions[:, 1] )\n",
    "fpr2, tpr2, thres2 = roc_curve( Y_test, predictions2[:, 1] )\n",
    "fpr3, tpr3, thres3 = roc_curve( Y_test, predictions3[:, 1] )"
   ]
  },
  {
   "cell_type": "code",
   "execution_count": 92,
   "metadata": {
    "ExecuteTime": {
     "end_time": "2021-11-03T18:57:47.772370Z",
     "start_time": "2021-11-03T18:57:47.568809Z"
    },
    "pycharm": {
     "name": "#%%\n"
    }
   },
   "outputs": [
    {
     "data": {
      "image/png": "[encoded data removed]",
      "text/plain": [
       "<Figure size 432x288 with 1 Axes>"
      ]
     },
     "metadata": {
      "needs_background": "light"
     },
     "output_type": "display_data"
    }
   ],
   "source": [
    "plt.plot( fpr, tpr, label = 'l1' )\n",
    "plt.plot( fpr2, tpr2, label = 'l2' )\n",
    "plt.plot( fpr3, tpr3, label = 'C=1' )\n",
    "\n",
    "plt.xlabel('False Positive Rate')\n",
    "plt.ylabel('True Positive Rate')\n",
    "\n",
    "plt.legend( loc = 0 )\n",
    "plt.show()\n"
   ]
  },
  {
   "cell_type": "code",
   "execution_count": 93,
   "metadata": {
    "ExecuteTime": {
     "end_time": "2021-11-03T18:57:48.247488Z",
     "start_time": "2021-11-03T18:57:48.236319Z"
    }
   },
   "outputs": [],
   "source": [
    "fpr, tpr, thres = roc_curve( Y_test, predictions[:, 1] )\n",
    "fpr2, tpr2, thres2 = roc_curve( Y_test, predictions2[:, 1] )\n",
    "fpr3, tpr3, thres3 = roc_curve( Y_test, predictions3[:, 1] )"
   ]
  },
  {
   "cell_type": "code",
   "execution_count": 94,
   "metadata": {
    "ExecuteTime": {
     "end_time": "2021-11-03T18:57:49.001029Z",
     "start_time": "2021-11-03T18:57:48.809739Z"
    }
   },
   "outputs": [
    {
     "data": {
      "image/png": "[encoded data removed]",
      "text/plain": [
       "<Figure size 432x288 with 1 Axes>"
      ]
     },
     "metadata": {
      "needs_background": "light"
     },
     "output_type": "display_data"
    }
   ],
   "source": [
    "plt.plot( fpr, tpr, label = 'l1' )\n",
    "plt.plot( fpr2, tpr2, label = 'l2' )\n",
    "plt.plot( fpr3, tpr3, label = 'C=1' )\n",
    "\n",
    "plt.xlabel('False Positive Rate')\n",
    "plt.ylabel('True Positive Rate')\n",
    "\n",
    "plt.legend( loc = 0 )\n",
    "plt.show()"
   ]
  },
  {
   "cell_type": "code",
   "execution_count": null,
   "metadata": {},
   "outputs": [],
   "source": []
  }
 ],
 "metadata": {
  "kernelspec": {
   "display_name": "Python 3",
   "language": "python",
   "name": "python3"
  },
  "language_info": {
   "codemirror_mode": {
    "name": "ipython",
    "version": 3
   },
   "file_extension": ".py",
   "mimetype": "text/x-python",
   "name": "python",
   "nbconvert_exporter": "python",
   "pygments_lexer": "ipython3",
   "version": "3.8.10"
  },
  "toc": {
   "base_numbering": 1,
   "nav_menu": {},
   "number_sections": true,
   "sideBar": true,
   "skip_h1_title": false,
   "title_cell": "Table of Contents",
   "title_sidebar": "Contents",
   "toc_cell": false,
   "toc_position": {},
   "toc_section_display": true,
   "toc_window_display": false
  },
  "varInspector": {
   "cols": {
    "lenName": 16,
    "lenType": 16,
    "lenVar": 40
   },
   "kernels_config": {
    "python": {
     "delete_cmd_postfix": "",
     "delete_cmd_prefix": "del ",
     "library": "var_list.py",
     "varRefreshCmd": "print(var_dic_list())"
    },
    "r": {
     "delete_cmd_postfix": ") ",
     "delete_cmd_prefix": "rm(",
     "library": "var_list.r",
     "varRefreshCmd": "cat(var_dic_list()) "
    }
   },
   "types_to_exclude": [
    "module",
    "function",
    "builtin_function_or_method",
    "instance",
    "_Feature"
   ],
   "window_display": false
  }
 },
 "nbformat": 4,
 "nbformat_minor": 2
}